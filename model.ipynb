{
 "cells": [
  {
   "cell_type": "code",
   "execution_count": 2,
   "metadata": {},
   "outputs": [
    {
     "name": "stderr",
     "output_type": "stream",
     "text": [
      "\n",
      "Bad key \"text.kerning_factor\" on line 4 in\n",
      "F:\\anaconda\\envs\\han\\lib\\site-packages\\matplotlib\\mpl-data\\stylelib\\_classic_test_patch.mplstyle.\n",
      "You probably need to get an updated matplotlibrc file from\n",
      "http://github.com/matplotlib/matplotlib/blob/master/matplotlibrc.template\n",
      "or from the matplotlib source distribution\n"
     ]
    }
   ],
   "source": [
    "import matplotlib.pyplot as plt"
   ]
  },
  {
   "cell_type": "markdown",
   "metadata": {},
   "source": [
    "### 建模与调参"
   ]
  },
  {
   "cell_type": "markdown",
   "metadata": {},
   "source": [
    "4.1 学习目标\n",
    "- 了解常用的机器学习模型，并掌握机器学习模型的的建模与调参流程"
   ]
  },
  {
   "cell_type": "markdown",
   "metadata": {},
   "source": [
    "4.2 内容介绍\n",
    "\n",
    "1.线性回归模型：\n",
    "- 线性回归对于特征的要求\n",
    "- 处理厂伪分布\n",
    "- 理解线性回归模型\n",
    "\n",
    "2.模型性能验证：\n",
    "- 评价函数与目标函数\n",
    "- 交叉验证方法\n",
    "- 留一验证方法\n",
    "- 针对时间序列问题的验证\n",
    "- 绘制学习率曲线\n",
    "- 绘制验证曲线\n",
    "\n",
    "3.嵌入式特征选择：\n",
    "- Lasso回归\n",
    "- Ridge回归\n",
    "- 决策树\n",
    "\n",
    "4.模型对比\n",
    "- 常用线性模型\n",
    "- 常用非线性模型\n",
    "\n",
    "5.模型调参\n",
    "- 贪心调参方法\n",
    "- 网格调参方法\n",
    "- 贝叶斯调参方法"
   ]
  },
  {
   "cell_type": "markdown",
   "metadata": {},
   "source": [
    "4.3相关原理介绍与推荐\n"
   ]
  },
  {
   "cell_type": "markdown",
   "metadata": {},
   "source": [
    "4.4 代码部分"
   ]
  },
  {
   "cell_type": "markdown",
   "metadata": {},
   "source": [
    "4.4.1 读取数据"
   ]
  },
  {
   "cell_type": "code",
   "execution_count": 3,
   "metadata": {},
   "outputs": [],
   "source": [
    "import pandas as pd\n",
    "import numpy as np\n",
    "import warnings\n",
    "warnings.filterwarnings('ignore')"
   ]
  },
  {
   "cell_type": "markdown",
   "metadata": {},
   "source": [
    "reduce_mem_usage函数通过调整数据类型，帮助我们减少数据在内存中占用的空间"
   ]
  },
  {
   "cell_type": "code",
   "execution_count": 4,
   "metadata": {},
   "outputs": [],
   "source": [
    "def reduce_mem_usage(df):\n",
    "    '''iterate through all the columns of a dataframe and modify the data type\n",
    "       to reduce memory usage\n",
    "    '''\n",
    "    start_mem = df.memory_usage().sum()\n",
    "    print('Memory usage of dataframe is {:.2f} MB'.format(start_mem))\n",
    "    \n",
    "    for col in df.columns:\n",
    "        col_type = df[col].dtype\n",
    "        \n",
    "        if col_type != object:\n",
    "            c_min = df[col].min()\n",
    "            c_max = df[col].max()\n",
    "            if str(col_type)[:3] == 'int':\n",
    "                if c_min > np.iinfo(np.int8).min and c_max < np.iinfo(np.int8).max:\n",
    "                    df[col] = df[col].astype(np.int8)\n",
    "                elif c_min > np.iinfo(np.int16).min and c_max < np.iinfo(np.int16).max:\n",
    "                    df[col] = df[col].astype(np.int16)\n",
    "                elif c_min > np.iinfo(np.int32).min and c_max < np.iinfo(np.int32).max:\n",
    "                    df[col] = df[col].astype(np.int32)\n",
    "                elif c_min > np.iinfo(np.int64).min and c_max < np.iinfo(np.int64).max:\n",
    "                     df[col] = df[col].astype(np.int64) \n",
    "\n",
    "            else:\n",
    "                if c_min > np.finfo(np.float16).min and c_max < np.finfo(np.float16).max:\n",
    "                    df[col] = df[col].astype(np.float16)\n",
    "                elif c_min > np.finfo(np.float32).min and c_max < np.finfo(np.float32).max:\n",
    "                    df[col] = df[col].astype(np.float32)\n",
    "                else:\n",
    "                    df[col] = df[col].astype(np.float64)\n",
    "        else:\n",
    "            df[col] = df[col].astype('category')\n",
    "            \n",
    "    end_mem = df.memory_usage().sum() \n",
    "    print('Memory usage after optimization is: {:.2f} MB'.format(end_mem))\n",
    "    print('Decreased by {:.1f}%'.format(100 * (start_mem - end_mem) / start_mem))\n",
    "    return df    "
   ]
  },
  {
   "cell_type": "code",
   "execution_count": 5,
   "metadata": {},
   "outputs": [
    {
     "name": "stdout",
     "output_type": "stream",
     "text": [
      "Memory usage of dataframe is 62099672.00 MB\n",
      "Memory usage after optimization is: 16520303.00 MB\n",
      "Decreased by 73.4%\n"
     ]
    }
   ],
   "source": [
    "sample_feature = reduce_mem_usage(pd.read_csv('../temp/data_for_tree.csv'))"
   ]
  },
  {
   "cell_type": "code",
   "execution_count": 6,
   "metadata": {},
   "outputs": [
    {
     "name": "stdout",
     "output_type": "stream",
     "text": [
      "<class 'pandas.core.frame.DataFrame'>\n",
      "RangeIndex: 199037 entries, 0 to 199036\n",
      "Data columns (total 39 columns):\n",
      " #   Column               Non-Null Count   Dtype   \n",
      "---  ------               --------------   -----   \n",
      " 0   SaleID               199037 non-null  int32   \n",
      " 1   bodyType             193130 non-null  float16 \n",
      " 2   brand                199037 non-null  int8    \n",
      " 3   fuelType             187512 non-null  float16 \n",
      " 4   gearbox              191173 non-null  float16 \n",
      " 5   kilometer            199037 non-null  float16 \n",
      " 6   model                199036 non-null  float16 \n",
      " 7   name                 199037 non-null  int32   \n",
      " 8   notRepairedDamage    199037 non-null  category\n",
      " 9   offerType            199037 non-null  int8    \n",
      " 10  power                199037 non-null  int16   \n",
      " 11  price                149037 non-null  float32 \n",
      " 12  seller               199037 non-null  int8    \n",
      " 13  train                199037 non-null  int8    \n",
      " 14  v_0                  199037 non-null  float16 \n",
      " 15  v_1                  199037 non-null  float16 \n",
      " 16  v_10                 199037 non-null  float16 \n",
      " 17  v_11                 199037 non-null  float16 \n",
      " 18  v_12                 199037 non-null  float16 \n",
      " 19  v_13                 199037 non-null  float16 \n",
      " 20  v_14                 199037 non-null  float16 \n",
      " 21  v_2                  199037 non-null  float16 \n",
      " 22  v_3                  199037 non-null  float16 \n",
      " 23  v_4                  199037 non-null  float16 \n",
      " 24  v_5                  199037 non-null  float16 \n",
      " 25  v_6                  199037 non-null  float16 \n",
      " 26  v_7                  199037 non-null  float16 \n",
      " 27  v_8                  199037 non-null  float16 \n",
      " 28  v_9                  199037 non-null  float16 \n",
      " 29  used_time            183965 non-null  float16 \n",
      " 30  city                 150392 non-null  float16 \n",
      " 31  brand_amount         199037 non-null  float16 \n",
      " 32  brand_price_max      199037 non-null  float32 \n",
      " 33  brand_price_median   199037 non-null  float16 \n",
      " 34  brand_price_min      199037 non-null  float16 \n",
      " 35  brand_price_sum      199037 non-null  float32 \n",
      " 36  brand_price_std      199037 non-null  float16 \n",
      " 37  brand_price_average  199037 non-null  float16 \n",
      " 38  power_bin            179090 non-null  float16 \n",
      "dtypes: category(1), float16(28), float32(3), int16(1), int32(2), int8(4)\n",
      "memory usage: 15.8 MB\n"
     ]
    }
   ],
   "source": [
    "sample_feature.info()"
   ]
  },
  {
   "cell_type": "code",
   "execution_count": 7,
   "metadata": {},
   "outputs": [],
   "source": [
    "continuous_feature_names = [x for x in sample_feature.columns if x not in ['price','brand','model','brand']]"
   ]
  },
  {
   "cell_type": "markdown",
   "metadata": {},
   "source": [
    "4.4.2 线性回归 & 五折交叉验证 & 模拟真实业务情况"
   ]
  },
  {
   "cell_type": "code",
   "execution_count": 8,
   "metadata": {},
   "outputs": [],
   "source": [
    "sample_feature = sample_feature.dropna().replace('-', 0).reset_index(drop=True)\n",
    "sample_feature['notRepairedDamage'] = sample_feature['notRepairedDamage'].astype(np.float32)\n",
    "train = sample_feature[continuous_feature_names + ['price']]\n",
    "\n",
    "train_X = train[continuous_feature_names]\n",
    "train_y = train['price']"
   ]
  },
  {
   "cell_type": "code",
   "execution_count": 15,
   "metadata": {},
   "outputs": [
    {
     "name": "stdout",
     "output_type": "stream",
     "text": [
      "<class 'pandas.core.frame.DataFrame'>\n",
      "RangeIndex: 91729 entries, 0 to 91728\n",
      "Data columns (total 36 columns):\n",
      " #   Column               Non-Null Count  Dtype  \n",
      "---  ------               --------------  -----  \n",
      " 0   SaleID               91729 non-null  int32  \n",
      " 1   bodyType             91729 non-null  float16\n",
      " 2   fuelType             91729 non-null  float16\n",
      " 3   gearbox              91729 non-null  float16\n",
      " 4   kilometer            91729 non-null  float16\n",
      " 5   name                 91729 non-null  int32  \n",
      " 6   notRepairedDamage    91729 non-null  float32\n",
      " 7   offerType            91729 non-null  int8   \n",
      " 8   power                91729 non-null  int16  \n",
      " 9   seller               91729 non-null  int8   \n",
      " 10  train                91729 non-null  int8   \n",
      " 11  v_0                  91729 non-null  float16\n",
      " 12  v_1                  91729 non-null  float16\n",
      " 13  v_10                 91729 non-null  float16\n",
      " 14  v_11                 91729 non-null  float16\n",
      " 15  v_12                 91729 non-null  float16\n",
      " 16  v_13                 91729 non-null  float16\n",
      " 17  v_14                 91729 non-null  float16\n",
      " 18  v_2                  91729 non-null  float16\n",
      " 19  v_3                  91729 non-null  float16\n",
      " 20  v_4                  91729 non-null  float16\n",
      " 21  v_5                  91729 non-null  float16\n",
      " 22  v_6                  91729 non-null  float16\n",
      " 23  v_7                  91729 non-null  float16\n",
      " 24  v_8                  91729 non-null  float16\n",
      " 25  v_9                  91729 non-null  float16\n",
      " 26  used_time            91729 non-null  float16\n",
      " 27  city                 91729 non-null  float16\n",
      " 28  brand_amount         91729 non-null  float16\n",
      " 29  brand_price_max      91729 non-null  float32\n",
      " 30  brand_price_median   91729 non-null  float16\n",
      " 31  brand_price_min      91729 non-null  float16\n",
      " 32  brand_price_sum      91729 non-null  float32\n",
      " 33  brand_price_std      91729 non-null  float16\n",
      " 34  brand_price_average  91729 non-null  float16\n",
      " 35  power_bin            91729 non-null  float16\n",
      "dtypes: float16(27), float32(3), int16(1), int32(2), int8(3)\n",
      "memory usage: 6.9 MB\n"
     ]
    }
   ],
   "source": [
    "train_X.info()"
   ]
  },
  {
   "cell_type": "markdown",
   "metadata": {},
   "source": [
    "4.4.2 1简单建模"
   ]
  },
  {
   "cell_type": "code",
   "execution_count": 9,
   "metadata": {},
   "outputs": [],
   "source": [
    "from sklearn.linear_model import LinearRegression"
   ]
  },
  {
   "cell_type": "code",
   "execution_count": 10,
   "metadata": {},
   "outputs": [],
   "source": [
    "model = LinearRegression(normalize = True)"
   ]
  },
  {
   "cell_type": "code",
   "execution_count": 11,
   "metadata": {},
   "outputs": [],
   "source": [
    "model = model.fit(train_X,train_y)"
   ]
  },
  {
   "cell_type": "markdown",
   "metadata": {},
   "source": [
    "查看训练的线性回归模型的截距（intercept）与权重（coef）"
   ]
  },
  {
   "cell_type": "code",
   "execution_count": 16,
   "metadata": {},
   "outputs": [
    {
     "name": "stdout",
     "output_type": "stream",
     "text": [
      "intercept:-110670.68277277562\n"
     ]
    },
    {
     "data": {
      "text/plain": [
       "[('v_6', 3367064.341641901),\n",
       " ('v_8', 700675.5609398846),\n",
       " ('v_9', 170630.27723221088),\n",
       " ('v_7', 32322.661932023715),\n",
       " ('v_12', 20473.670796966464),\n",
       " ('v_3', 17868.07954149422),\n",
       " ('v_11', 11474.938996741424),\n",
       " ('v_13', 11261.764560013271),\n",
       " ('v_10', 2683.920090556804),\n",
       " ('gearbox', 881.8225039247703),\n",
       " ('fuelType', 363.9042507216862),\n",
       " ('bodyType', 189.60271012075074),\n",
       " ('city', 44.9497512052223),\n",
       " ('power', 28.553901616752945),\n",
       " ('brand_price_median', 0.5103728134079206),\n",
       " ('brand_price_std', 0.4503634709263355),\n",
       " ('brand_amount', 0.14881120395065559),\n",
       " ('brand_price_max', 0.0031910186703134184),\n",
       " ('SaleID', 5.3559899198556306e-05),\n",
       " ('seller', 3.312714397907257e-06),\n",
       " ('offerType', 2.771965228021145e-06),\n",
       " ('train', 4.7206413000822067e-07),\n",
       " ('brand_price_sum', -2.175006868187581e-05),\n",
       " ('name', -0.00029800127130370817),\n",
       " ('used_time', -0.002515894332876499),\n",
       " ('brand_price_average', -0.40490484510118563),\n",
       " ('brand_price_min', -2.246775348689076),\n",
       " ('power_bin', -34.420644117268296),\n",
       " ('v_14', -274.78411807751655),\n",
       " ('kilometer', -372.897526660733),\n",
       " ('notRepairedDamage', -495.1903844629332),\n",
       " ('v_0', -2045.0549573539831),\n",
       " ('v_5', -11022.98624054859),\n",
       " ('v_4', -15121.731109855613),\n",
       " ('v_2', -26098.299920548732),\n",
       " ('v_1', -45556.18929732308)]"
      ]
     },
     "execution_count": 16,
     "metadata": {},
     "output_type": "execute_result"
    }
   ],
   "source": [
    "print('intercept:'+ str(model.intercept_))\n",
    "\n",
    "sorted(dict(zip(continuous_feature_names, model.coef_)).items(), key=lambda x:x[1], reverse=True)"
   ]
  },
  {
   "cell_type": "code",
   "execution_count": 17,
   "metadata": {},
   "outputs": [],
   "source": [
    "from matplotlib import pyplot as plt"
   ]
  },
  {
   "cell_type": "code",
   "execution_count": 18,
   "metadata": {},
   "outputs": [],
   "source": [
    "subsample_index = np.random.randint(low=0, high=len(train_y), size=50)"
   ]
  },
  {
   "cell_type": "code",
   "execution_count": 19,
   "metadata": {},
   "outputs": [
    {
     "data": {
      "text/plain": [
       "array([85482, 85295, 11582, 61275, 76847, 36213, 49200, 23444, 87100,\n",
       "        1785, 47421, 75384, 87622, 79685, 46860, 14091, 73973, 51453,\n",
       "       47286, 15998, 59277, 42331, 22194, 51702,  7683, 12339, 51359,\n",
       "       67066, 42862, 47988, 45192, 27636, 46382, 13480, 51361, 65811,\n",
       "        9657, 72458, 64732, 48229, 78625, 49660,  6831, 25826, 84491,\n",
       "       41178, 29339, 84287, 25525, 77376])"
      ]
     },
     "execution_count": 19,
     "metadata": {},
     "output_type": "execute_result"
    }
   ],
   "source": [
    "subsample_index"
   ]
  },
  {
   "cell_type": "code",
   "execution_count": 14,
   "metadata": {},
   "outputs": [
    {
     "data": {
      "text/plain": [
       "91729"
      ]
     },
     "execution_count": 14,
     "metadata": {},
     "output_type": "execute_result"
    }
   ],
   "source": [
    "len(train_y)"
   ]
  },
  {
   "cell_type": "markdown",
   "metadata": {},
   "source": [
    "绘制特征v_9的值与标签的散点图，图片发现模型的预测结果（蓝色点）与真实标签（黑色点）的分布差异较大，且部分预测值出现了小于0的情况，说明我们的模型存在一些问题"
   ]
  },
  {
   "cell_type": "code",
   "execution_count": 20,
   "metadata": {},
   "outputs": [
    {
     "name": "stdout",
     "output_type": "stream",
     "text": [
      "The predicted price is obvious different from true price\n"
     ]
    },
    {
     "data": {
      "image/png": "[encoded data removed]",
      "text/plain": [
       "<Figure size 432x288 with 1 Axes>"
      ]
     },
     "metadata": {
      "needs_background": "light"
     },
     "output_type": "display_data"
    }
   ],
   "source": [
    "plt.scatter(train_X['v_9'][subsample_index], train_y[subsample_index], color='black')\n",
    "plt.scatter(train_X['v_9'][subsample_index], model.predict(train_X.loc[subsample_index]), color='blue')\n",
    "plt.xlabel('v_9')\n",
    "plt.ylabel('price')\n",
    "plt.legend(['True Price','Predicted Price'],loc='upper right')\n",
    "print('The predicted price is obvious different from true price')\n",
    "plt.show()"
   ]
  },
  {
   "cell_type": "markdown",
   "metadata": {},
   "source": [
    "通过作图我们发现数据的标签（price）呈现长尾分布，不利于我们的建模预测。原因是很多模型都假设数据误差项符合正态分布，而长尾分布的数据违背了这一假设。"
   ]
  },
  {
   "cell_type": "code",
   "execution_count": 21,
   "metadata": {},
   "outputs": [
    {
     "name": "stdout",
     "output_type": "stream",
     "text": [
      "It is clear to see the price shows a typical exponential distribution\n"
     ]
    },
    {
     "data": {
      "text/plain": [
       "<matplotlib.axes._subplots.AxesSubplot at 0x2a04a253748>"
      ]
     },
     "execution_count": 21,
     "metadata": {},
     "output_type": "execute_result"
    },
    {
     "data": {
      "image/png": "[encoded data removed]",
      "text/plain": [
       "<Figure size 1080x360 with 2 Axes>"
      ]
     },
     "metadata": {
      "needs_background": "light"
     },
     "output_type": "display_data"
    }
   ],
   "source": [
    "import matplotlib\n",
    "import matplotlib.pyplot as plt\n",
    "import seaborn as sns\n",
    "%matplotlib inline\n",
    "print('It is clear to see the price shows a typical exponential distribution')\n",
    "plt.figure(figsize=(15,5))\n",
    "plt.subplot(1,2,1)\n",
    "sns.distplot(train_y)\n",
    "plt.subplot(1,2,2)\n",
    "sns.distplot(train_y[train_y < np.quantile(train_y, 0.9)])"
   ]
  },
  {
   "cell_type": "markdown",
   "metadata": {},
   "source": [
    "对标签进行log(x+1)变换，使标签贴近于正态分布"
   ]
  },
  {
   "cell_type": "code",
   "execution_count": 23,
   "metadata": {},
   "outputs": [],
   "source": [
    "train_y_ln = np.log(train_y + 1)"
   ]
  },
  {
   "cell_type": "code",
   "execution_count": 24,
   "metadata": {},
   "outputs": [
    {
     "name": "stdout",
     "output_type": "stream",
     "text": [
      "The transformed price seems like normal distribution\n"
     ]
    },
    {
     "data": {
      "text/plain": [
       "<matplotlib.axes._subplots.AxesSubplot at 0x2a04b4a4710>"
      ]
     },
     "execution_count": 24,
     "metadata": {},
     "output_type": "execute_result"
    },
    {
     "data": {
      "image/png": "[encoded data removed]",
      "text/plain": [
       "<Figure size 1080x360 with 2 Axes>"
      ]
     },
     "metadata": {
      "needs_background": "light"
     },
     "output_type": "display_data"
    }
   ],
   "source": [
    "import seaborn as sns\n",
    "print('The transformed price seems like normal distribution')\n",
    "plt.figure(figsize = (15,5))\n",
    "plt.subplot(121)\n",
    "sns.distplot(train_y_ln)\n",
    "plt.subplot(122)\n",
    "sns.distplot(train_y_ln[train_y_ln < np.quantile(train_y_ln, 0.9)])"
   ]
  },
  {
   "cell_type": "code",
   "execution_count": 25,
   "metadata": {},
   "outputs": [],
   "source": [
    "a = {1:2,2:3}"
   ]
  },
  {
   "cell_type": "code",
   "execution_count": 28,
   "metadata": {},
   "outputs": [
    {
     "data": {
      "text/plain": [
       "dict_items([(1, 2), (2, 3)])"
      ]
     },
     "execution_count": 28,
     "metadata": {},
     "output_type": "execute_result"
    }
   ],
   "source": [
    "a.items()"
   ]
  },
  {
   "cell_type": "code",
   "execution_count": 29,
   "metadata": {},
   "outputs": [
    {
     "name": "stdout",
     "output_type": "stream",
     "text": [
      "intercept:18.75074517947369\n"
     ]
    },
    {
     "data": {
      "text/plain": [
       "[('v_9', 8.052411862467322),\n",
       " ('v_5', 5.764248108889951),\n",
       " ('v_12', 1.6182067956199435),\n",
       " ('v_1', 1.4798303197196727),\n",
       " ('v_11', 1.1669015120041326),\n",
       " ('v_13', 0.9404706437800069),\n",
       " ('v_7', 0.7137294508625033),\n",
       " ('v_3', 0.6837866035968299),\n",
       " ('v_0', 0.008500534653894673),\n",
       " ('power_bin', 0.008497965654837814),\n",
       " ('gearbox', 0.007922378088709285),\n",
       " ('fuelType', 0.006684768460802572),\n",
       " ('bodyType', 0.004523520622818914),\n",
       " ('power', 0.0007161897692610765),\n",
       " ('brand_price_min', 3.334353069627121e-05),\n",
       " ('brand_amount', 2.897880083926367e-06),\n",
       " ('brand_price_median', 1.2571134137116051e-06),\n",
       " ('brand_price_std', 6.659143319234751e-07),\n",
       " ('brand_price_max', 6.194957135898743e-07),\n",
       " ('brand_price_average', 5.999412912946069e-07),\n",
       " ('SaleID', 2.119415870180968e-08),\n",
       " ('train', -5.877609510207549e-11),\n",
       " ('offerType', -1.4211654075779734e-10),\n",
       " ('brand_price_sum', -1.5126511831820617e-10),\n",
       " ('seller', -1.710027675017045e-10),\n",
       " ('name', -7.015510219003226e-08),\n",
       " ('used_time', -4.122477034662248e-06),\n",
       " ('city', -0.0022187834077403543),\n",
       " ('v_14', -0.004234190595040072),\n",
       " ('kilometer', -0.01383586687205992),\n",
       " ('notRepairedDamage', -0.27027941980255615),\n",
       " ('v_4', -0.8315697198634279),\n",
       " ('v_2', -0.9470832226845626),\n",
       " ('v_10', -1.6261473269991373),\n",
       " ('v_8', -40.34300723577121),\n",
       " ('v_6', -238.79035853932865)]"
      ]
     },
     "execution_count": 29,
     "metadata": {},
     "output_type": "execute_result"
    }
   ],
   "source": [
    "model = model.fit(train_X,train_y_ln)\n",
    "\n",
    "print('intercept:' + str(model.intercept_))\n",
    "sorted(dict(zip(continuous_feature_names, model.coef_)).items(),key = lambda x: x[1],reverse = True)"
   ]
  },
  {
   "cell_type": "code",
   "execution_count": null,
   "metadata": {},
   "outputs": [],
   "source": []
  },
  {
   "cell_type": "code",
   "execution_count": 35,
   "metadata": {},
   "outputs": [
    {
     "data": {
      "image/png": "[encoded data removed]",
      "text/plain": [
       "<Figure size 432x288 with 1 Axes>"
      ]
     },
     "metadata": {
      "needs_background": "light"
     },
     "output_type": "display_data"
    }
   ],
   "source": [
    "plt.scatter(train_X['v_9'][subsample_index], train_y[subsample_index], color = 'black')\n",
    "plt.scatter(train_X['v_9'][subsample_index], np.exp(model.predict(train_X.loc[subsample_index])) - 1, color = 'blue')\n",
    "plt.xlabel('v_9')\n",
    "plt.ylabel('price')\n",
    "plt.legend('The predicted price seems nomal after np.log transforming')\n",
    "plt.show()"
   ]
  },
  {
   "cell_type": "markdown",
   "metadata": {},
   "source": [
    "4.4.2 2五折交叉验证"
   ]
  },
  {
   "cell_type": "markdown",
   "metadata": {},
   "source": [
    "在使用训练集对参数进行训练的时候，经常会发现人们通常会将一整个训练集分为三个部分（比如mnist手写训练集）。一般分为：训练集（train_set），评估集（valid_set），测试集（test_set）这三个部分。这其实是为了保证训练效果而特意设置的。其中测试集很好理解，其实就是完全不参与训练的数据，仅仅用来观测测试效果的数据。而训练集和评估集则牵涉到下面的知识了。\n",
    "\n",
    "因为在实际的训练中，训练的结果对于训练集的拟合程度通常还是挺好的（初始条件敏感），但是对于训练集之外的数据的拟合程度通常就不那么令人满意了。因此我们通常并不会把所有的数据集都拿来训练，而是分出一部分来（这一部分不参加训练）对训练集生成的参数进行测试，相对客观的判断这些参数对训练集之外的数据的符合程度。这种思想就称为交叉验证（Cross Validation）"
   ]
  },
  {
   "cell_type": "code",
   "execution_count": 36,
   "metadata": {},
   "outputs": [],
   "source": [
    "from sklearn.model_selection import cross_val_score\n",
    "from sklearn.metrics import mean_absolute_error, make_scorer"
   ]
  },
  {
   "cell_type": "code",
   "execution_count": 37,
   "metadata": {},
   "outputs": [],
   "source": [
    "def log_transfer(func):\n",
    "    def wrapper(y, yhat):\n",
    "        result = func(np.log(y), np.nan_to_num(np.log(yhat)))\n",
    "        return result\n",
    "    return wrapper\n"
   ]
  },
  {
   "cell_type": "code",
   "execution_count": 39,
   "metadata": {},
   "outputs": [
    {
     "name": "stderr",
     "output_type": "stream",
     "text": [
      "[Parallel(n_jobs=1)]: Using backend SequentialBackend with 1 concurrent workers.\n",
      "[Parallel(n_jobs=1)]: Done   5 out of   5 | elapsed:    0.6s finished\n"
     ]
    }
   ],
   "source": [
    "scores = cross_val_score(model, X = train_X, y = train_y, verbose = 1, cv = 5, scoring = make_scorer(log_transfer(mean_absolute_error)))"
   ]
  },
  {
   "cell_type": "markdown",
   "metadata": {},
   "source": [
    "使用线性回归模型，对未处理标签的特征数据进行五折交叉验证"
   ]
  },
  {
   "cell_type": "code",
   "execution_count": 40,
   "metadata": {},
   "outputs": [
    {
     "name": "stdout",
     "output_type": "stream",
     "text": [
      "AVG: 1.3658024042927805\n"
     ]
    }
   ],
   "source": [
    "print('AVG:', np.mean(scores))"
   ]
  },
  {
   "cell_type": "markdown",
   "metadata": {},
   "source": [
    "使用线性回归模型，对处理过标签的特征数据进行五折交叉验证（Error 0.19）"
   ]
  },
  {
   "cell_type": "code",
   "execution_count": 41,
   "metadata": {},
   "outputs": [
    {
     "name": "stderr",
     "output_type": "stream",
     "text": [
      "[Parallel(n_jobs=1)]: Using backend SequentialBackend with 1 concurrent workers.\n",
      "[Parallel(n_jobs=1)]: Done   5 out of   5 | elapsed:    0.6s finished\n"
     ]
    }
   ],
   "source": [
    "scores = cross_val_score(model, X=train_X, y=train_y_ln, verbose=1, cv = 5, scoring=make_scorer(mean_absolute_error))"
   ]
  },
  {
   "cell_type": "code",
   "execution_count": 43,
   "metadata": {},
   "outputs": [
    {
     "data": {
      "text/html": [
       "<div>\n",
       "<style scoped>\n",
       "    .dataframe tbody tr th:only-of-type {\n",
       "        vertical-align: middle;\n",
       "    }\n",
       "\n",
       "    .dataframe tbody tr th {\n",
       "        vertical-align: top;\n",
       "    }\n",
       "\n",
       "    .dataframe thead th {\n",
       "        text-align: right;\n",
       "    }\n",
       "</style>\n",
       "<table border=\"1\" class=\"dataframe\">\n",
       "  <thead>\n",
       "    <tr style=\"text-align: right;\">\n",
       "      <th></th>\n",
       "      <th>cv1</th>\n",
       "      <th>cv2</th>\n",
       "      <th>cv3</th>\n",
       "      <th>cv4</th>\n",
       "      <th>cv5</th>\n",
       "    </tr>\n",
       "  </thead>\n",
       "  <tbody>\n",
       "    <tr>\n",
       "      <th>MAE</th>\n",
       "      <td>0.190792</td>\n",
       "      <td>0.193758</td>\n",
       "      <td>0.194132</td>\n",
       "      <td>0.191825</td>\n",
       "      <td>0.195758</td>\n",
       "    </tr>\n",
       "  </tbody>\n",
       "</table>\n",
       "</div>"
      ],
      "text/plain": [
       "          cv1       cv2       cv3       cv4       cv5\n",
       "MAE  0.190792  0.193758  0.194132  0.191825  0.195758"
      ]
     },
     "execution_count": 43,
     "metadata": {},
     "output_type": "execute_result"
    }
   ],
   "source": [
    "scores = pd.DataFrame(scores.reshape(1, -1))\n",
    "scores.columns = ['cv' + str(x) for x in range(1,6)]\n",
    "scores.index = ['MAE']\n",
    "scores"
   ]
  },
  {
   "cell_type": "markdown",
   "metadata": {},
   "source": [
    "4.4.2 3 模拟真实业务情况"
   ]
  },
  {
   "cell_type": "markdown",
   "metadata": {},
   "source": [
    "但在事实上，由于我们并不具有预知未来的能力，五折交叉验证在某些与时间相关的数据集上反而反映了不真实的情况。通过2018年的二手车价格预测2017年的二手车价格，这显然是不合理的，因此我们还可以采用时间顺序对数据集进行分隔。在本例中，我们选用靠前时间的4/5样本当作训练集，靠后时间的1/5当作验证集，最终结果与五折交叉验证差距不大"
   ]
  },
  {
   "cell_type": "code",
   "execution_count": 45,
   "metadata": {},
   "outputs": [],
   "source": [
    "import datetime"
   ]
  },
  {
   "cell_type": "code",
   "execution_count": 46,
   "metadata": {},
   "outputs": [],
   "source": [
    "sample_feature = sample_feature.reset_index(drop = True)"
   ]
  },
  {
   "cell_type": "code",
   "execution_count": 47,
   "metadata": {},
   "outputs": [],
   "source": [
    "split_point = len(sample_feature) // 5 * 4"
   ]
  },
  {
   "cell_type": "code",
   "execution_count": 49,
   "metadata": {},
   "outputs": [
    {
     "data": {
      "text/html": [
       "<div>\n",
       "<style scoped>\n",
       "    .dataframe tbody tr th:only-of-type {\n",
       "        vertical-align: middle;\n",
       "    }\n",
       "\n",
       "    .dataframe tbody tr th {\n",
       "        vertical-align: top;\n",
       "    }\n",
       "\n",
       "    .dataframe thead th {\n",
       "        text-align: right;\n",
       "    }\n",
       "</style>\n",
       "<table border=\"1\" class=\"dataframe\">\n",
       "  <thead>\n",
       "    <tr style=\"text-align: right;\">\n",
       "      <th></th>\n",
       "      <th>SaleID</th>\n",
       "      <th>bodyType</th>\n",
       "      <th>fuelType</th>\n",
       "      <th>gearbox</th>\n",
       "      <th>kilometer</th>\n",
       "      <th>name</th>\n",
       "      <th>notRepairedDamage</th>\n",
       "      <th>offerType</th>\n",
       "      <th>power</th>\n",
       "      <th>seller</th>\n",
       "      <th>train</th>\n",
       "      <th>v_0</th>\n",
       "      <th>v_1</th>\n",
       "      <th>v_10</th>\n",
       "      <th>v_11</th>\n",
       "      <th>v_12</th>\n",
       "      <th>v_13</th>\n",
       "      <th>v_14</th>\n",
       "      <th>v_2</th>\n",
       "      <th>v_3</th>\n",
       "      <th>v_4</th>\n",
       "      <th>v_5</th>\n",
       "      <th>v_6</th>\n",
       "      <th>v_7</th>\n",
       "      <th>v_8</th>\n",
       "      <th>v_9</th>\n",
       "      <th>used_time</th>\n",
       "      <th>city</th>\n",
       "      <th>brand_amount</th>\n",
       "      <th>brand_price_max</th>\n",
       "      <th>brand_price_median</th>\n",
       "      <th>brand_price_min</th>\n",
       "      <th>brand_price_sum</th>\n",
       "      <th>brand_price_std</th>\n",
       "      <th>brand_price_average</th>\n",
       "      <th>power_bin</th>\n",
       "    </tr>\n",
       "  </thead>\n",
       "  <tbody>\n",
       "    <tr>\n",
       "      <th>0</th>\n",
       "      <td>0</td>\n",
       "      <td>1.0</td>\n",
       "      <td>0.0</td>\n",
       "      <td>0.0</td>\n",
       "      <td>12.5</td>\n",
       "      <td>736</td>\n",
       "      <td>0.0</td>\n",
       "      <td>0</td>\n",
       "      <td>60</td>\n",
       "      <td>0</td>\n",
       "      <td>1</td>\n",
       "      <td>43.34375</td>\n",
       "      <td>3.966797</td>\n",
       "      <td>-2.880859</td>\n",
       "      <td>2.804688</td>\n",
       "      <td>-2.419922</td>\n",
       "      <td>0.795410</td>\n",
       "      <td>0.914551</td>\n",
       "      <td>0.050262</td>\n",
       "      <td>2.160156</td>\n",
       "      <td>1.143555</td>\n",
       "      <td>0.235718</td>\n",
       "      <td>0.101990</td>\n",
       "      <td>0.129517</td>\n",
       "      <td>0.022812</td>\n",
       "      <td>0.097473</td>\n",
       "      <td>4384.0</td>\n",
       "      <td>1.0</td>\n",
       "      <td>10192.0</td>\n",
       "      <td>35990.0</td>\n",
       "      <td>1800.0</td>\n",
       "      <td>13.0</td>\n",
       "      <td>36457520.0</td>\n",
       "      <td>4564.0</td>\n",
       "      <td>3576.0</td>\n",
       "      <td>5.0</td>\n",
       "    </tr>\n",
       "    <tr>\n",
       "      <th>1</th>\n",
       "      <td>2</td>\n",
       "      <td>1.0</td>\n",
       "      <td>0.0</td>\n",
       "      <td>0.0</td>\n",
       "      <td>12.5</td>\n",
       "      <td>14874</td>\n",
       "      <td>0.0</td>\n",
       "      <td>0</td>\n",
       "      <td>163</td>\n",
       "      <td>0</td>\n",
       "      <td>1</td>\n",
       "      <td>45.96875</td>\n",
       "      <td>4.824219</td>\n",
       "      <td>-4.847656</td>\n",
       "      <td>1.803711</td>\n",
       "      <td>1.565430</td>\n",
       "      <td>-0.832520</td>\n",
       "      <td>-0.229980</td>\n",
       "      <td>1.319336</td>\n",
       "      <td>-0.998535</td>\n",
       "      <td>-0.997070</td>\n",
       "      <td>0.251465</td>\n",
       "      <td>0.114929</td>\n",
       "      <td>0.165161</td>\n",
       "      <td>0.062164</td>\n",
       "      <td>0.027069</td>\n",
       "      <td>4384.0</td>\n",
       "      <td>2.0</td>\n",
       "      <td>1458.0</td>\n",
       "      <td>45000.0</td>\n",
       "      <td>8496.0</td>\n",
       "      <td>100.0</td>\n",
       "      <td>14373814.0</td>\n",
       "      <td>5424.0</td>\n",
       "      <td>9848.0</td>\n",
       "      <td>16.0</td>\n",
       "    </tr>\n",
       "    <tr>\n",
       "      <th>2</th>\n",
       "      <td>4</td>\n",
       "      <td>1.0</td>\n",
       "      <td>0.0</td>\n",
       "      <td>0.0</td>\n",
       "      <td>5.0</td>\n",
       "      <td>111080</td>\n",
       "      <td>0.0</td>\n",
       "      <td>0</td>\n",
       "      <td>68</td>\n",
       "      <td>0</td>\n",
       "      <td>1</td>\n",
       "      <td>44.37500</td>\n",
       "      <td>2.031250</td>\n",
       "      <td>-1.896484</td>\n",
       "      <td>0.910645</td>\n",
       "      <td>0.931152</td>\n",
       "      <td>2.833984</td>\n",
       "      <td>1.923828</td>\n",
       "      <td>0.572266</td>\n",
       "      <td>-1.571289</td>\n",
       "      <td>2.246094</td>\n",
       "      <td>0.228027</td>\n",
       "      <td>0.073181</td>\n",
       "      <td>0.091858</td>\n",
       "      <td>0.078796</td>\n",
       "      <td>0.121521</td>\n",
       "      <td>1531.0</td>\n",
       "      <td>6.0</td>\n",
       "      <td>4664.0</td>\n",
       "      <td>31500.0</td>\n",
       "      <td>2300.0</td>\n",
       "      <td>20.0</td>\n",
       "      <td>15414322.0</td>\n",
       "      <td>3344.0</td>\n",
       "      <td>3306.0</td>\n",
       "      <td>6.0</td>\n",
       "    </tr>\n",
       "    <tr>\n",
       "      <th>3</th>\n",
       "      <td>5</td>\n",
       "      <td>0.0</td>\n",
       "      <td>1.0</td>\n",
       "      <td>0.0</td>\n",
       "      <td>10.0</td>\n",
       "      <td>137642</td>\n",
       "      <td>0.0</td>\n",
       "      <td>0</td>\n",
       "      <td>109</td>\n",
       "      <td>0</td>\n",
       "      <td>1</td>\n",
       "      <td>46.31250</td>\n",
       "      <td>-3.228516</td>\n",
       "      <td>1.885742</td>\n",
       "      <td>-2.722656</td>\n",
       "      <td>2.457031</td>\n",
       "      <td>-0.286865</td>\n",
       "      <td>0.206543</td>\n",
       "      <td>0.156616</td>\n",
       "      <td>-1.727539</td>\n",
       "      <td>-0.345703</td>\n",
       "      <td>0.260254</td>\n",
       "      <td>0.000518</td>\n",
       "      <td>0.119812</td>\n",
       "      <td>0.090942</td>\n",
       "      <td>0.048767</td>\n",
       "      <td>2482.0</td>\n",
       "      <td>3.0</td>\n",
       "      <td>13992.0</td>\n",
       "      <td>92900.0</td>\n",
       "      <td>5200.0</td>\n",
       "      <td>15.0</td>\n",
       "      <td>113034208.0</td>\n",
       "      <td>8248.0</td>\n",
       "      <td>8076.0</td>\n",
       "      <td>10.0</td>\n",
       "    </tr>\n",
       "    <tr>\n",
       "      <th>4</th>\n",
       "      <td>6</td>\n",
       "      <td>0.0</td>\n",
       "      <td>0.0</td>\n",
       "      <td>1.0</td>\n",
       "      <td>15.0</td>\n",
       "      <td>2402</td>\n",
       "      <td>0.0</td>\n",
       "      <td>0</td>\n",
       "      <td>150</td>\n",
       "      <td>0</td>\n",
       "      <td>1</td>\n",
       "      <td>46.09375</td>\n",
       "      <td>4.925781</td>\n",
       "      <td>-4.902344</td>\n",
       "      <td>1.610352</td>\n",
       "      <td>-0.834473</td>\n",
       "      <td>-1.996094</td>\n",
       "      <td>-0.103210</td>\n",
       "      <td>0.113281</td>\n",
       "      <td>1.644531</td>\n",
       "      <td>-1.270508</td>\n",
       "      <td>0.268066</td>\n",
       "      <td>0.117676</td>\n",
       "      <td>0.142334</td>\n",
       "      <td>0.025452</td>\n",
       "      <td>0.028168</td>\n",
       "      <td>6184.0</td>\n",
       "      <td>3.0</td>\n",
       "      <td>16576.0</td>\n",
       "      <td>99999.0</td>\n",
       "      <td>6000.0</td>\n",
       "      <td>12.0</td>\n",
       "      <td>138279072.0</td>\n",
       "      <td>8088.0</td>\n",
       "      <td>8344.0</td>\n",
       "      <td>14.0</td>\n",
       "    </tr>\n",
       "    <tr>\n",
       "      <th>...</th>\n",
       "      <td>...</td>\n",
       "      <td>...</td>\n",
       "      <td>...</td>\n",
       "      <td>...</td>\n",
       "      <td>...</td>\n",
       "      <td>...</td>\n",
       "      <td>...</td>\n",
       "      <td>...</td>\n",
       "      <td>...</td>\n",
       "      <td>...</td>\n",
       "      <td>...</td>\n",
       "      <td>...</td>\n",
       "      <td>...</td>\n",
       "      <td>...</td>\n",
       "      <td>...</td>\n",
       "      <td>...</td>\n",
       "      <td>...</td>\n",
       "      <td>...</td>\n",
       "      <td>...</td>\n",
       "      <td>...</td>\n",
       "      <td>...</td>\n",
       "      <td>...</td>\n",
       "      <td>...</td>\n",
       "      <td>...</td>\n",
       "      <td>...</td>\n",
       "      <td>...</td>\n",
       "      <td>...</td>\n",
       "      <td>...</td>\n",
       "      <td>...</td>\n",
       "      <td>...</td>\n",
       "      <td>...</td>\n",
       "      <td>...</td>\n",
       "      <td>...</td>\n",
       "      <td>...</td>\n",
       "      <td>...</td>\n",
       "      <td>...</td>\n",
       "    </tr>\n",
       "    <tr>\n",
       "      <th>95</th>\n",
       "      <td>164</td>\n",
       "      <td>0.0</td>\n",
       "      <td>0.0</td>\n",
       "      <td>0.0</td>\n",
       "      <td>12.5</td>\n",
       "      <td>13155</td>\n",
       "      <td>0.0</td>\n",
       "      <td>0</td>\n",
       "      <td>101</td>\n",
       "      <td>0</td>\n",
       "      <td>1</td>\n",
       "      <td>42.50000</td>\n",
       "      <td>2.597656</td>\n",
       "      <td>-1.709961</td>\n",
       "      <td>1.432617</td>\n",
       "      <td>-3.476562</td>\n",
       "      <td>0.932129</td>\n",
       "      <td>0.399658</td>\n",
       "      <td>-1.596680</td>\n",
       "      <td>1.986328</td>\n",
       "      <td>0.894043</td>\n",
       "      <td>0.252686</td>\n",
       "      <td>0.080322</td>\n",
       "      <td>0.020782</td>\n",
       "      <td>0.022614</td>\n",
       "      <td>0.093750</td>\n",
       "      <td>6544.0</td>\n",
       "      <td>4.0</td>\n",
       "      <td>16072.0</td>\n",
       "      <td>38990.0</td>\n",
       "      <td>1700.0</td>\n",
       "      <td>12.0</td>\n",
       "      <td>49076652.0</td>\n",
       "      <td>3606.0</td>\n",
       "      <td>3054.0</td>\n",
       "      <td>10.0</td>\n",
       "    </tr>\n",
       "    <tr>\n",
       "      <th>96</th>\n",
       "      <td>167</td>\n",
       "      <td>2.0</td>\n",
       "      <td>1.0</td>\n",
       "      <td>0.0</td>\n",
       "      <td>15.0</td>\n",
       "      <td>306</td>\n",
       "      <td>0.0</td>\n",
       "      <td>0</td>\n",
       "      <td>131</td>\n",
       "      <td>0</td>\n",
       "      <td>1</td>\n",
       "      <td>44.65625</td>\n",
       "      <td>4.183594</td>\n",
       "      <td>-3.802734</td>\n",
       "      <td>1.710938</td>\n",
       "      <td>-1.244141</td>\n",
       "      <td>-0.684570</td>\n",
       "      <td>0.469482</td>\n",
       "      <td>-0.191162</td>\n",
       "      <td>1.104492</td>\n",
       "      <td>-0.570312</td>\n",
       "      <td>0.258789</td>\n",
       "      <td>0.105103</td>\n",
       "      <td>0.105774</td>\n",
       "      <td>0.032745</td>\n",
       "      <td>0.045807</td>\n",
       "      <td>4808.0</td>\n",
       "      <td>4.0</td>\n",
       "      <td>31424.0</td>\n",
       "      <td>68500.0</td>\n",
       "      <td>3200.0</td>\n",
       "      <td>13.0</td>\n",
       "      <td>173719696.0</td>\n",
       "      <td>6260.0</td>\n",
       "      <td>5528.0</td>\n",
       "      <td>13.0</td>\n",
       "    </tr>\n",
       "    <tr>\n",
       "      <th>97</th>\n",
       "      <td>168</td>\n",
       "      <td>2.0</td>\n",
       "      <td>0.0</td>\n",
       "      <td>0.0</td>\n",
       "      <td>15.0</td>\n",
       "      <td>12698</td>\n",
       "      <td>0.0</td>\n",
       "      <td>0</td>\n",
       "      <td>144</td>\n",
       "      <td>0</td>\n",
       "      <td>1</td>\n",
       "      <td>44.56250</td>\n",
       "      <td>3.683594</td>\n",
       "      <td>-3.156250</td>\n",
       "      <td>1.833008</td>\n",
       "      <td>-2.261719</td>\n",
       "      <td>-0.792480</td>\n",
       "      <td>-0.110718</td>\n",
       "      <td>-0.344971</td>\n",
       "      <td>2.521484</td>\n",
       "      <td>-0.014641</td>\n",
       "      <td>0.254883</td>\n",
       "      <td>0.099121</td>\n",
       "      <td>0.125122</td>\n",
       "      <td>0.016968</td>\n",
       "      <td>0.067810</td>\n",
       "      <td>6304.0</td>\n",
       "      <td>3.0</td>\n",
       "      <td>1386.0</td>\n",
       "      <td>42350.0</td>\n",
       "      <td>2800.0</td>\n",
       "      <td>20.0</td>\n",
       "      <td>7228288.0</td>\n",
       "      <td>6188.0</td>\n",
       "      <td>5212.0</td>\n",
       "      <td>14.0</td>\n",
       "    </tr>\n",
       "    <tr>\n",
       "      <th>98</th>\n",
       "      <td>170</td>\n",
       "      <td>0.0</td>\n",
       "      <td>0.0</td>\n",
       "      <td>0.0</td>\n",
       "      <td>15.0</td>\n",
       "      <td>20285</td>\n",
       "      <td>0.0</td>\n",
       "      <td>0</td>\n",
       "      <td>102</td>\n",
       "      <td>0</td>\n",
       "      <td>1</td>\n",
       "      <td>45.68750</td>\n",
       "      <td>4.226562</td>\n",
       "      <td>-4.101562</td>\n",
       "      <td>1.522461</td>\n",
       "      <td>-1.184570</td>\n",
       "      <td>-1.490234</td>\n",
       "      <td>0.282227</td>\n",
       "      <td>-0.020248</td>\n",
       "      <td>1.845703</td>\n",
       "      <td>-0.816406</td>\n",
       "      <td>0.263916</td>\n",
       "      <td>0.107483</td>\n",
       "      <td>0.137817</td>\n",
       "      <td>0.024872</td>\n",
       "      <td>0.041351</td>\n",
       "      <td>4432.0</td>\n",
       "      <td>3.0</td>\n",
       "      <td>13656.0</td>\n",
       "      <td>84000.0</td>\n",
       "      <td>6400.0</td>\n",
       "      <td>15.0</td>\n",
       "      <td>124044600.0</td>\n",
       "      <td>8992.0</td>\n",
       "      <td>9080.0</td>\n",
       "      <td>10.0</td>\n",
       "    </tr>\n",
       "    <tr>\n",
       "      <th>99</th>\n",
       "      <td>172</td>\n",
       "      <td>2.0</td>\n",
       "      <td>1.0</td>\n",
       "      <td>0.0</td>\n",
       "      <td>15.0</td>\n",
       "      <td>175474</td>\n",
       "      <td>0.0</td>\n",
       "      <td>0</td>\n",
       "      <td>136</td>\n",
       "      <td>0</td>\n",
       "      <td>1</td>\n",
       "      <td>44.46875</td>\n",
       "      <td>-3.041016</td>\n",
       "      <td>2.298828</td>\n",
       "      <td>-2.126953</td>\n",
       "      <td>1.419922</td>\n",
       "      <td>1.605469</td>\n",
       "      <td>0.515137</td>\n",
       "      <td>-0.399658</td>\n",
       "      <td>-2.019531</td>\n",
       "      <td>1.002930</td>\n",
       "      <td>0.247314</td>\n",
       "      <td>0.000694</td>\n",
       "      <td>0.059052</td>\n",
       "      <td>0.092712</td>\n",
       "      <td>0.087463</td>\n",
       "      <td>2752.0</td>\n",
       "      <td>1.0</td>\n",
       "      <td>4664.0</td>\n",
       "      <td>31500.0</td>\n",
       "      <td>2300.0</td>\n",
       "      <td>20.0</td>\n",
       "      <td>15414322.0</td>\n",
       "      <td>3344.0</td>\n",
       "      <td>3306.0</td>\n",
       "      <td>13.0</td>\n",
       "    </tr>\n",
       "  </tbody>\n",
       "</table>\n",
       "<p>100 rows × 36 columns</p>\n",
       "</div>"
      ],
      "text/plain": [
       "    SaleID  bodyType  fuelType  gearbox  kilometer    name  notRepairedDamage  \\\n",
       "0        0       1.0       0.0      0.0       12.5     736                0.0   \n",
       "1        2       1.0       0.0      0.0       12.5   14874                0.0   \n",
       "2        4       1.0       0.0      0.0        5.0  111080                0.0   \n",
       "3        5       0.0       1.0      0.0       10.0  137642                0.0   \n",
       "4        6       0.0       0.0      1.0       15.0    2402                0.0   \n",
       "..     ...       ...       ...      ...        ...     ...                ...   \n",
       "95     164       0.0       0.0      0.0       12.5   13155                0.0   \n",
       "96     167       2.0       1.0      0.0       15.0     306                0.0   \n",
       "97     168       2.0       0.0      0.0       15.0   12698                0.0   \n",
       "98     170       0.0       0.0      0.0       15.0   20285                0.0   \n",
       "99     172       2.0       1.0      0.0       15.0  175474                0.0   \n",
       "\n",
       "    offerType  power  seller  train       v_0       v_1      v_10      v_11  \\\n",
       "0           0     60       0      1  43.34375  3.966797 -2.880859  2.804688   \n",
       "1           0    163       0      1  45.96875  4.824219 -4.847656  1.803711   \n",
       "2           0     68       0      1  44.37500  2.031250 -1.896484  0.910645   \n",
       "3           0    109       0      1  46.31250 -3.228516  1.885742 -2.722656   \n",
       "4           0    150       0      1  46.09375  4.925781 -4.902344  1.610352   \n",
       "..        ...    ...     ...    ...       ...       ...       ...       ...   \n",
       "95          0    101       0      1  42.50000  2.597656 -1.709961  1.432617   \n",
       "96          0    131       0      1  44.65625  4.183594 -3.802734  1.710938   \n",
       "97          0    144       0      1  44.56250  3.683594 -3.156250  1.833008   \n",
       "98          0    102       0      1  45.68750  4.226562 -4.101562  1.522461   \n",
       "99          0    136       0      1  44.46875 -3.041016  2.298828 -2.126953   \n",
       "\n",
       "        v_12      v_13      v_14       v_2       v_3       v_4       v_5  \\\n",
       "0  -2.419922  0.795410  0.914551  0.050262  2.160156  1.143555  0.235718   \n",
       "1   1.565430 -0.832520 -0.229980  1.319336 -0.998535 -0.997070  0.251465   \n",
       "2   0.931152  2.833984  1.923828  0.572266 -1.571289  2.246094  0.228027   \n",
       "3   2.457031 -0.286865  0.206543  0.156616 -1.727539 -0.345703  0.260254   \n",
       "4  -0.834473 -1.996094 -0.103210  0.113281  1.644531 -1.270508  0.268066   \n",
       "..       ...       ...       ...       ...       ...       ...       ...   \n",
       "95 -3.476562  0.932129  0.399658 -1.596680  1.986328  0.894043  0.252686   \n",
       "96 -1.244141 -0.684570  0.469482 -0.191162  1.104492 -0.570312  0.258789   \n",
       "97 -2.261719 -0.792480 -0.110718 -0.344971  2.521484 -0.014641  0.254883   \n",
       "98 -1.184570 -1.490234  0.282227 -0.020248  1.845703 -0.816406  0.263916   \n",
       "99  1.419922  1.605469  0.515137 -0.399658 -2.019531  1.002930  0.247314   \n",
       "\n",
       "         v_6       v_7       v_8       v_9  used_time  city  brand_amount  \\\n",
       "0   0.101990  0.129517  0.022812  0.097473     4384.0   1.0       10192.0   \n",
       "1   0.114929  0.165161  0.062164  0.027069     4384.0   2.0        1458.0   \n",
       "2   0.073181  0.091858  0.078796  0.121521     1531.0   6.0        4664.0   \n",
       "3   0.000518  0.119812  0.090942  0.048767     2482.0   3.0       13992.0   \n",
       "4   0.117676  0.142334  0.025452  0.028168     6184.0   3.0       16576.0   \n",
       "..       ...       ...       ...       ...        ...   ...           ...   \n",
       "95  0.080322  0.020782  0.022614  0.093750     6544.0   4.0       16072.0   \n",
       "96  0.105103  0.105774  0.032745  0.045807     4808.0   4.0       31424.0   \n",
       "97  0.099121  0.125122  0.016968  0.067810     6304.0   3.0        1386.0   \n",
       "98  0.107483  0.137817  0.024872  0.041351     4432.0   3.0       13656.0   \n",
       "99  0.000694  0.059052  0.092712  0.087463     2752.0   1.0        4664.0   \n",
       "\n",
       "    brand_price_max  brand_price_median  brand_price_min  brand_price_sum  \\\n",
       "0           35990.0              1800.0             13.0       36457520.0   \n",
       "1           45000.0              8496.0            100.0       14373814.0   \n",
       "2           31500.0              2300.0             20.0       15414322.0   \n",
       "3           92900.0              5200.0             15.0      113034208.0   \n",
       "4           99999.0              6000.0             12.0      138279072.0   \n",
       "..              ...                 ...              ...              ...   \n",
       "95          38990.0              1700.0             12.0       49076652.0   \n",
       "96          68500.0              3200.0             13.0      173719696.0   \n",
       "97          42350.0              2800.0             20.0        7228288.0   \n",
       "98          84000.0              6400.0             15.0      124044600.0   \n",
       "99          31500.0              2300.0             20.0       15414322.0   \n",
       "\n",
       "    brand_price_std  brand_price_average  power_bin  \n",
       "0            4564.0               3576.0        5.0  \n",
       "1            5424.0               9848.0       16.0  \n",
       "2            3344.0               3306.0        6.0  \n",
       "3            8248.0               8076.0       10.0  \n",
       "4            8088.0               8344.0       14.0  \n",
       "..              ...                  ...        ...  \n",
       "95           3606.0               3054.0       10.0  \n",
       "96           6260.0               5528.0       13.0  \n",
       "97           6188.0               5212.0       14.0  \n",
       "98           8992.0               9080.0       10.0  \n",
       "99           3344.0               3306.0       13.0  \n",
       "\n",
       "[100 rows x 36 columns]"
      ]
     },
     "execution_count": 49,
     "metadata": {},
     "output_type": "execute_result"
    }
   ],
   "source": [
    "pd.options.display.max_columns = None\n",
    "train_X.head(100)"
   ]
  },
  {
   "cell_type": "code",
   "execution_count": 51,
   "metadata": {},
   "outputs": [],
   "source": [
    "a = pd.read_csv('../data/used_car_train_20200313.csv',sep = ' ')"
   ]
  },
  {
   "cell_type": "code",
   "execution_count": 52,
   "metadata": {},
   "outputs": [
    {
     "data": {
      "text/html": [
       "<div>\n",
       "<style scoped>\n",
       "    .dataframe tbody tr th:only-of-type {\n",
       "        vertical-align: middle;\n",
       "    }\n",
       "\n",
       "    .dataframe tbody tr th {\n",
       "        vertical-align: top;\n",
       "    }\n",
       "\n",
       "    .dataframe thead th {\n",
       "        text-align: right;\n",
       "    }\n",
       "</style>\n",
       "<table border=\"1\" class=\"dataframe\">\n",
       "  <thead>\n",
       "    <tr style=\"text-align: right;\">\n",
       "      <th></th>\n",
       "      <th>SaleID</th>\n",
       "      <th>name</th>\n",
       "      <th>regDate</th>\n",
       "      <th>model</th>\n",
       "      <th>brand</th>\n",
       "      <th>bodyType</th>\n",
       "      <th>fuelType</th>\n",
       "      <th>gearbox</th>\n",
       "      <th>power</th>\n",
       "      <th>kilometer</th>\n",
       "      <th>notRepairedDamage</th>\n",
       "      <th>regionCode</th>\n",
       "      <th>seller</th>\n",
       "      <th>offerType</th>\n",
       "      <th>creatDate</th>\n",
       "      <th>price</th>\n",
       "      <th>v_0</th>\n",
       "      <th>v_1</th>\n",
       "      <th>v_2</th>\n",
       "      <th>v_3</th>\n",
       "      <th>v_4</th>\n",
       "      <th>v_5</th>\n",
       "      <th>v_6</th>\n",
       "      <th>v_7</th>\n",
       "      <th>v_8</th>\n",
       "      <th>v_9</th>\n",
       "      <th>v_10</th>\n",
       "      <th>v_11</th>\n",
       "      <th>v_12</th>\n",
       "      <th>v_13</th>\n",
       "      <th>v_14</th>\n",
       "    </tr>\n",
       "  </thead>\n",
       "  <tbody>\n",
       "    <tr>\n",
       "      <th>0</th>\n",
       "      <td>0</td>\n",
       "      <td>736</td>\n",
       "      <td>20040402</td>\n",
       "      <td>30.0</td>\n",
       "      <td>6</td>\n",
       "      <td>1.0</td>\n",
       "      <td>0.0</td>\n",
       "      <td>0.0</td>\n",
       "      <td>60</td>\n",
       "      <td>12.5</td>\n",
       "      <td>0.0</td>\n",
       "      <td>1046</td>\n",
       "      <td>0</td>\n",
       "      <td>0</td>\n",
       "      <td>20160404</td>\n",
       "      <td>1850</td>\n",
       "      <td>43.357796</td>\n",
       "      <td>3.966344</td>\n",
       "      <td>0.050257</td>\n",
       "      <td>2.159744</td>\n",
       "      <td>1.143786</td>\n",
       "      <td>0.235676</td>\n",
       "      <td>0.101988</td>\n",
       "      <td>0.129549</td>\n",
       "      <td>0.022816</td>\n",
       "      <td>0.097462</td>\n",
       "      <td>-2.881803</td>\n",
       "      <td>2.804097</td>\n",
       "      <td>-2.420821</td>\n",
       "      <td>0.795292</td>\n",
       "      <td>0.914762</td>\n",
       "    </tr>\n",
       "    <tr>\n",
       "      <th>1</th>\n",
       "      <td>1</td>\n",
       "      <td>2262</td>\n",
       "      <td>20030301</td>\n",
       "      <td>40.0</td>\n",
       "      <td>1</td>\n",
       "      <td>2.0</td>\n",
       "      <td>0.0</td>\n",
       "      <td>0.0</td>\n",
       "      <td>0</td>\n",
       "      <td>15.0</td>\n",
       "      <td>-</td>\n",
       "      <td>4366</td>\n",
       "      <td>0</td>\n",
       "      <td>0</td>\n",
       "      <td>20160309</td>\n",
       "      <td>3600</td>\n",
       "      <td>45.305273</td>\n",
       "      <td>5.236112</td>\n",
       "      <td>0.137925</td>\n",
       "      <td>1.380657</td>\n",
       "      <td>-1.422165</td>\n",
       "      <td>0.264777</td>\n",
       "      <td>0.121004</td>\n",
       "      <td>0.135731</td>\n",
       "      <td>0.026597</td>\n",
       "      <td>0.020582</td>\n",
       "      <td>-4.900482</td>\n",
       "      <td>2.096338</td>\n",
       "      <td>-1.030483</td>\n",
       "      <td>-1.722674</td>\n",
       "      <td>0.245522</td>\n",
       "    </tr>\n",
       "    <tr>\n",
       "      <th>2</th>\n",
       "      <td>2</td>\n",
       "      <td>14874</td>\n",
       "      <td>20040403</td>\n",
       "      <td>115.0</td>\n",
       "      <td>15</td>\n",
       "      <td>1.0</td>\n",
       "      <td>0.0</td>\n",
       "      <td>0.0</td>\n",
       "      <td>163</td>\n",
       "      <td>12.5</td>\n",
       "      <td>0.0</td>\n",
       "      <td>2806</td>\n",
       "      <td>0</td>\n",
       "      <td>0</td>\n",
       "      <td>20160402</td>\n",
       "      <td>6222</td>\n",
       "      <td>45.978359</td>\n",
       "      <td>4.823792</td>\n",
       "      <td>1.319524</td>\n",
       "      <td>-0.998467</td>\n",
       "      <td>-0.996911</td>\n",
       "      <td>0.251410</td>\n",
       "      <td>0.114912</td>\n",
       "      <td>0.165147</td>\n",
       "      <td>0.062173</td>\n",
       "      <td>0.027075</td>\n",
       "      <td>-4.846749</td>\n",
       "      <td>1.803559</td>\n",
       "      <td>1.565330</td>\n",
       "      <td>-0.832687</td>\n",
       "      <td>-0.229963</td>\n",
       "    </tr>\n",
       "    <tr>\n",
       "      <th>3</th>\n",
       "      <td>3</td>\n",
       "      <td>71865</td>\n",
       "      <td>19960908</td>\n",
       "      <td>109.0</td>\n",
       "      <td>10</td>\n",
       "      <td>0.0</td>\n",
       "      <td>0.0</td>\n",
       "      <td>1.0</td>\n",
       "      <td>193</td>\n",
       "      <td>15.0</td>\n",
       "      <td>0.0</td>\n",
       "      <td>434</td>\n",
       "      <td>0</td>\n",
       "      <td>0</td>\n",
       "      <td>20160312</td>\n",
       "      <td>2400</td>\n",
       "      <td>45.687478</td>\n",
       "      <td>4.492574</td>\n",
       "      <td>-0.050616</td>\n",
       "      <td>0.883600</td>\n",
       "      <td>-2.228079</td>\n",
       "      <td>0.274293</td>\n",
       "      <td>0.110300</td>\n",
       "      <td>0.121964</td>\n",
       "      <td>0.033395</td>\n",
       "      <td>0.000000</td>\n",
       "      <td>-4.509599</td>\n",
       "      <td>1.285940</td>\n",
       "      <td>-0.501868</td>\n",
       "      <td>-2.438353</td>\n",
       "      <td>-0.478699</td>\n",
       "    </tr>\n",
       "    <tr>\n",
       "      <th>4</th>\n",
       "      <td>4</td>\n",
       "      <td>111080</td>\n",
       "      <td>20120103</td>\n",
       "      <td>110.0</td>\n",
       "      <td>5</td>\n",
       "      <td>1.0</td>\n",
       "      <td>0.0</td>\n",
       "      <td>0.0</td>\n",
       "      <td>68</td>\n",
       "      <td>5.0</td>\n",
       "      <td>0.0</td>\n",
       "      <td>6977</td>\n",
       "      <td>0</td>\n",
       "      <td>0</td>\n",
       "      <td>20160313</td>\n",
       "      <td>5200</td>\n",
       "      <td>44.383511</td>\n",
       "      <td>2.031433</td>\n",
       "      <td>0.572169</td>\n",
       "      <td>-1.571239</td>\n",
       "      <td>2.246088</td>\n",
       "      <td>0.228036</td>\n",
       "      <td>0.073205</td>\n",
       "      <td>0.091880</td>\n",
       "      <td>0.078819</td>\n",
       "      <td>0.121534</td>\n",
       "      <td>-1.896240</td>\n",
       "      <td>0.910783</td>\n",
       "      <td>0.931110</td>\n",
       "      <td>2.834518</td>\n",
       "      <td>1.923482</td>\n",
       "    </tr>\n",
       "  </tbody>\n",
       "</table>\n",
       "</div>"
      ],
      "text/plain": [
       "   SaleID    name   regDate  model  brand  bodyType  fuelType  gearbox  power  \\\n",
       "0       0     736  20040402   30.0      6       1.0       0.0      0.0     60   \n",
       "1       1    2262  20030301   40.0      1       2.0       0.0      0.0      0   \n",
       "2       2   14874  20040403  115.0     15       1.0       0.0      0.0    163   \n",
       "3       3   71865  19960908  109.0     10       0.0       0.0      1.0    193   \n",
       "4       4  111080  20120103  110.0      5       1.0       0.0      0.0     68   \n",
       "\n",
       "   kilometer notRepairedDamage  regionCode  seller  offerType  creatDate  \\\n",
       "0       12.5               0.0        1046       0          0   20160404   \n",
       "1       15.0                 -        4366       0          0   20160309   \n",
       "2       12.5               0.0        2806       0          0   20160402   \n",
       "3       15.0               0.0         434       0          0   20160312   \n",
       "4        5.0               0.0        6977       0          0   20160313   \n",
       "\n",
       "   price        v_0       v_1       v_2       v_3       v_4       v_5  \\\n",
       "0   1850  43.357796  3.966344  0.050257  2.159744  1.143786  0.235676   \n",
       "1   3600  45.305273  5.236112  0.137925  1.380657 -1.422165  0.264777   \n",
       "2   6222  45.978359  4.823792  1.319524 -0.998467 -0.996911  0.251410   \n",
       "3   2400  45.687478  4.492574 -0.050616  0.883600 -2.228079  0.274293   \n",
       "4   5200  44.383511  2.031433  0.572169 -1.571239  2.246088  0.228036   \n",
       "\n",
       "        v_6       v_7       v_8       v_9      v_10      v_11      v_12  \\\n",
       "0  0.101988  0.129549  0.022816  0.097462 -2.881803  2.804097 -2.420821   \n",
       "1  0.121004  0.135731  0.026597  0.020582 -4.900482  2.096338 -1.030483   \n",
       "2  0.114912  0.165147  0.062173  0.027075 -4.846749  1.803559  1.565330   \n",
       "3  0.110300  0.121964  0.033395  0.000000 -4.509599  1.285940 -0.501868   \n",
       "4  0.073205  0.091880  0.078819  0.121534 -1.896240  0.910783  0.931110   \n",
       "\n",
       "       v_13      v_14  \n",
       "0  0.795292  0.914762  \n",
       "1 -1.722674  0.245522  \n",
       "2 -0.832687 -0.229963  \n",
       "3 -2.438353 -0.478699  \n",
       "4  2.834518  1.923482  "
      ]
     },
     "execution_count": 52,
     "metadata": {},
     "output_type": "execute_result"
    }
   ],
   "source": [
    "a.head()"
   ]
  },
  {
   "cell_type": "code",
   "execution_count": 53,
   "metadata": {},
   "outputs": [],
   "source": [
    "train = sample_feature.loc[:split_point].dropna()\n",
    "val   = sample_feature.loc[split_point:].dropna()\n",
    "\n",
    "train_X = train[continuous_feature_names]\n",
    "train_y_ln = np.log(train['price'] + 1)\n",
    "\n",
    "val_X = val[continuous_feature_names]\n",
    "val_y_ln = np.log(val['price'] + 1)"
   ]
  },
  {
   "cell_type": "code",
   "execution_count": 54,
   "metadata": {},
   "outputs": [],
   "source": [
    "model = model.fit(train_X, train_y_ln)"
   ]
  },
  {
   "cell_type": "code",
   "execution_count": 55,
   "metadata": {},
   "outputs": [
    {
     "data": {
      "text/plain": [
       "0.19577667087278483"
      ]
     },
     "execution_count": 55,
     "metadata": {},
     "output_type": "execute_result"
    }
   ],
   "source": [
    "mean_absolute_error(val_y_ln, model.predict(val_X))"
   ]
  },
  {
   "cell_type": "markdown",
   "metadata": {},
   "source": [
    "4.4.2 4绘制学习率曲线和验证曲线"
   ]
  },
  {
   "cell_type": "code",
   "execution_count": 56,
   "metadata": {},
   "outputs": [],
   "source": [
    "from sklearn.model_selection import learning_curve, validation_curve"
   ]
  },
  {
   "cell_type": "code",
   "execution_count": 57,
   "metadata": {},
   "outputs": [],
   "source": [
    "?learning_curve"
   ]
  },
  {
   "cell_type": "code",
   "execution_count": 59,
   "metadata": {},
   "outputs": [],
   "source": [
    "def plot_learning_curve(estimator, title, X, y, ylim=None, cv=None,n_jobs=1, train_size=np.linspace(.1, 1.0, 5 )):  \n",
    "    plt.figure()  \n",
    "    plt.title(title)  \n",
    "    if ylim is not None:  \n",
    "        plt.ylim(*ylim)  \n",
    "    plt.xlabel('Training example')  \n",
    "    plt.ylabel('score')  \n",
    "    train_sizes, train_scores, test_scores = learning_curve(estimator, X, y, cv=cv, n_jobs=n_jobs, train_sizes=train_size, scoring = make_scorer(mean_absolute_error))  \n",
    "    train_scores_mean = np.mean(train_scores, axis=1)  \n",
    "    train_scores_std = np.std(train_scores, axis=1)  \n",
    "    test_scores_mean = np.mean(test_scores, axis=1)  \n",
    "    test_scores_std = np.std(test_scores, axis=1)  \n",
    "    plt.grid()#区域  \n",
    "    plt.fill_between(train_sizes, train_scores_mean - train_scores_std,  \n",
    "                     train_scores_mean + train_scores_std, alpha=0.1,  \n",
    "                     color=\"r\")  \n",
    "    plt.fill_between(train_sizes, test_scores_mean - test_scores_std,  \n",
    "                     test_scores_mean + test_scores_std, alpha=0.1,  \n",
    "                     color=\"g\")  \n",
    "    plt.plot(train_sizes, train_scores_mean, 'o-', color='r',  \n",
    "             label=\"Training score\")  \n",
    "    plt.plot(train_sizes, test_scores_mean,'o-',color=\"g\",  \n",
    "             label=\"Cross-validation score\")  \n",
    "    plt.legend(loc=\"best\")  \n",
    "    return plt  "
   ]
  },
  {
   "cell_type": "code",
   "execution_count": 60,
   "metadata": {},
   "outputs": [
    {
     "data": {
      "text/plain": [
       "<module 'matplotlib.pyplot' from 'F:\\\\anaconda\\\\envs\\\\han\\\\lib\\\\site-packages\\\\matplotlib\\\\pyplot.py'>"
      ]
     },
     "execution_count": 60,
     "metadata": {},
     "output_type": "execute_result"
    },
    {
     "data": {
      "image/png": "[encoded data removed]",
      "text/plain": [
       "<Figure size 432x288 with 1 Axes>"
      ]
     },
     "metadata": {
      "needs_background": "light"
     },
     "output_type": "display_data"
    }
   ],
   "source": [
    "plot_learning_curve(LinearRegression(), 'Liner_model', train_X[:1000], train_y_ln[:1000], ylim=(0.0, 0.5), cv=5, n_jobs=1)  "
   ]
  },
  {
   "cell_type": "markdown",
   "metadata": {},
   "source": [
    "4.4.3 多种模型对比"
   ]
  },
  {
   "cell_type": "code",
   "execution_count": 61,
   "metadata": {},
   "outputs": [],
   "source": [
    "train = sample_feature[continuous_feature_names + ['price']].dropna()\n",
    "\n",
    "train_X = train[continuous_feature_names]\n",
    "train_y = train['price']\n",
    "train_y_ln = np.log(train_y + 1)"
   ]
  },
  {
   "cell_type": "markdown",
   "metadata": {},
   "source": [
    "4.4.3 1 线性模型&嵌入式特征选择"
   ]
  },
  {
   "cell_type": "markdown",
   "metadata": {},
   "source": [
    "在过滤式和包裹式特征选择方法中，特征选择过程与学习器训练过程有明显的分别。而嵌入式特征选择在学习器训练过程中自动地进行特征选择。嵌入式选择最常用的是L1正则化与L2正则化。在对线性回归模型加入两种正则化方法后，他们分别变成了岭回归与Lasso回归。"
   ]
  },
  {
   "cell_type": "code",
   "execution_count": 62,
   "metadata": {},
   "outputs": [],
   "source": [
    "from sklearn.linear_model import LinearRegression\n",
    "from sklearn.linear_model import Ridge\n",
    "from sklearn.linear_model import Lasso"
   ]
  },
  {
   "cell_type": "code",
   "execution_count": 63,
   "metadata": {},
   "outputs": [],
   "source": [
    "models = [LinearRegression(),\n",
    "          Ridge(),\n",
    "          Lasso()]"
   ]
  },
  {
   "cell_type": "code",
   "execution_count": 64,
   "metadata": {},
   "outputs": [
    {
     "name": "stdout",
     "output_type": "stream",
     "text": [
      "LinearRegression is finished\n",
      "Ridge is finished\n",
      "Lasso is finished\n"
     ]
    }
   ],
   "source": [
    "result = dict()\n",
    "for model in models:\n",
    "    model_name = str(model).split('(')[0]\n",
    "    scores = cross_val_score(model, X=train_X, y=train_y_ln, verbose=0, cv = 5, scoring=make_scorer(mean_absolute_error))\n",
    "    result[model_name] = scores\n",
    "    print(model_name + ' is finished')"
   ]
  },
  {
   "cell_type": "code",
   "execution_count": 65,
   "metadata": {},
   "outputs": [
    {
     "data": {
      "text/html": [
       "<div>\n",
       "<style scoped>\n",
       "    .dataframe tbody tr th:only-of-type {\n",
       "        vertical-align: middle;\n",
       "    }\n",
       "\n",
       "    .dataframe tbody tr th {\n",
       "        vertical-align: top;\n",
       "    }\n",
       "\n",
       "    .dataframe thead th {\n",
       "        text-align: right;\n",
       "    }\n",
       "</style>\n",
       "<table border=\"1\" class=\"dataframe\">\n",
       "  <thead>\n",
       "    <tr style=\"text-align: right;\">\n",
       "      <th></th>\n",
       "      <th>LinearRegression</th>\n",
       "      <th>Ridge</th>\n",
       "      <th>Lasso</th>\n",
       "    </tr>\n",
       "  </thead>\n",
       "  <tbody>\n",
       "    <tr>\n",
       "      <th>cv1</th>\n",
       "      <td>0.190792</td>\n",
       "      <td>0.194832</td>\n",
       "      <td>0.383899</td>\n",
       "    </tr>\n",
       "    <tr>\n",
       "      <th>cv2</th>\n",
       "      <td>0.193758</td>\n",
       "      <td>0.197632</td>\n",
       "      <td>0.381893</td>\n",
       "    </tr>\n",
       "    <tr>\n",
       "      <th>cv3</th>\n",
       "      <td>0.194132</td>\n",
       "      <td>0.198123</td>\n",
       "      <td>0.384090</td>\n",
       "    </tr>\n",
       "    <tr>\n",
       "      <th>cv4</th>\n",
       "      <td>0.191825</td>\n",
       "      <td>0.195670</td>\n",
       "      <td>0.380526</td>\n",
       "    </tr>\n",
       "    <tr>\n",
       "      <th>cv5</th>\n",
       "      <td>0.195758</td>\n",
       "      <td>0.199676</td>\n",
       "      <td>0.383611</td>\n",
       "    </tr>\n",
       "  </tbody>\n",
       "</table>\n",
       "</div>"
      ],
      "text/plain": [
       "     LinearRegression     Ridge     Lasso\n",
       "cv1          0.190792  0.194832  0.383899\n",
       "cv2          0.193758  0.197632  0.381893\n",
       "cv3          0.194132  0.198123  0.384090\n",
       "cv4          0.191825  0.195670  0.380526\n",
       "cv5          0.195758  0.199676  0.383611"
      ]
     },
     "execution_count": 65,
     "metadata": {},
     "output_type": "execute_result"
    }
   ],
   "source": [
    "result = pd.DataFrame(result)\n",
    "result.index = ['cv' + str(x) for x in range(1, 6)]\n",
    "result"
   ]
  },
  {
   "cell_type": "code",
   "execution_count": 66,
   "metadata": {},
   "outputs": [
    {
     "name": "stdout",
     "output_type": "stream",
     "text": [
      "intercept:18.750745119488037\n"
     ]
    },
    {
     "data": {
      "text/plain": [
       "<matplotlib.axes._subplots.AxesSubplot at 0x2a050629160>"
      ]
     },
     "execution_count": 66,
     "metadata": {},
     "output_type": "execute_result"
    },
    {
     "data": {
      "image/png": "[encoded data removed]",
      "text/plain": [
       "<Figure size 432x288 with 1 Axes>"
      ]
     },
     "metadata": {
      "needs_background": "light"
     },
     "output_type": "display_data"
    }
   ],
   "source": [
    "model = LinearRegression().fit(train_X, train_y_ln)\n",
    "print('intercept:'+ str(model.intercept_))\n",
    "sns.barplot(abs(model.coef_), continuous_feature_names)"
   ]
  },
  {
   "cell_type": "markdown",
   "metadata": {},
   "source": [
    "L2正则化在拟合过程中通常都倾向于让权值尽可能小，最后构造一个所有参数都比较小的模型。因为一般认为参数值小的模型比较简单，能适应不同的数据集，也在一定程度上避免了过拟合现象。可以设想一下对于一个线性回归方程，若参数很大，那么只要数据偏移一点点，就会对结果造成很大的影响；但如果参数足够小，数据偏移得多一点也不会对结果造成什么影响，专业一点的说法是『抗扰动能力强』"
   ]
  },
  {
   "cell_type": "code",
   "execution_count": 67,
   "metadata": {},
   "outputs": [
    {
     "name": "stdout",
     "output_type": "stream",
     "text": [
      "intercept:4.67171048032988\n"
     ]
    },
    {
     "data": {
      "text/plain": [
       "<matplotlib.axes._subplots.AxesSubplot at 0x2a050594908>"
      ]
     },
     "execution_count": 67,
     "metadata": {},
     "output_type": "execute_result"
    },
    {
     "data": {
      "image/png": "[encoded data removed]",
      "text/plain": [
       "<Figure size 432x288 with 1 Axes>"
      ]
     },
     "metadata": {
      "needs_background": "light"
     },
     "output_type": "display_data"
    }
   ],
   "source": [
    "model = Ridge().fit(train_X, train_y_ln)\n",
    "print('intercept:'+ str(model.intercept_))\n",
    "sns.barplot(abs(model.coef_), continuous_feature_names)"
   ]
  },
  {
   "cell_type": "markdown",
   "metadata": {},
   "source": [
    "L1正则化有助于生成一个稀疏权值矩阵，进而可以用于特征选择。如下图，我们发现power与userd_time特征非常重要。"
   ]
  },
  {
   "cell_type": "code",
   "execution_count": 68,
   "metadata": {},
   "outputs": [
    {
     "name": "stdout",
     "output_type": "stream",
     "text": [
      "intercept:8.672182390189667\n"
     ]
    },
    {
     "data": {
      "text/plain": [
       "<matplotlib.axes._subplots.AxesSubplot at 0x2a03dccf828>"
      ]
     },
     "execution_count": 68,
     "metadata": {},
     "output_type": "execute_result"
    },
    {
     "data": {
      "image/png": "[encoded data removed]",
      "text/plain": [
       "<Figure size 432x288 with 1 Axes>"
      ]
     },
     "metadata": {
      "needs_background": "light"
     },
     "output_type": "display_data"
    }
   ],
   "source": [
    "model = Lasso().fit(train_X, train_y_ln)\n",
    "print('intercept:'+ str(model.intercept_))\n",
    "sns.barplot(abs(model.coef_), continuous_feature_names)"
   ]
  },
  {
   "cell_type": "markdown",
   "metadata": {},
   "source": [
    "除此之外，决策树通过信息熵或GINI指数选择分裂节点时，优先选择的分裂特征也更加重要，这同样是一种特征选择的方法。XGBoost与LightGBM模型中的model_importance指标正是基于此计算的"
   ]
  },
  {
   "cell_type": "markdown",
   "metadata": {},
   "source": [
    "4.4.3 2 非线性模型"
   ]
  },
  {
   "cell_type": "code",
   "execution_count": 70,
   "metadata": {},
   "outputs": [],
   "source": [
    "from sklearn.linear_model import LinearRegression\n",
    "from sklearn.svm import SVC\n",
    "from sklearn.tree import DecisionTreeRegressor\n",
    "from sklearn.ensemble import RandomForestRegressor\n",
    "from sklearn.ensemble import GradientBoostingRegressor\n",
    "from sklearn.neural_network import MLPRegressor\n",
    "from xgboost.sklearn import XGBRegressor\n",
    "from lightgbm.sklearn import LGBMRegressor"
   ]
  },
  {
   "cell_type": "code",
   "execution_count": 71,
   "metadata": {},
   "outputs": [],
   "source": [
    "models = [LinearRegression(),\n",
    "          DecisionTreeRegressor(),\n",
    "          RandomForestRegressor(),\n",
    "          GradientBoostingRegressor(),\n",
    "          MLPRegressor(solver='lbfgs', max_iter=100), \n",
    "          XGBRegressor(n_estimators = 100, objective='reg:squarederror'), \n",
    "          LGBMRegressor(n_estimators = 100)]"
   ]
  },
  {
   "cell_type": "code",
   "execution_count": 73,
   "metadata": {},
   "outputs": [
    {
     "name": "stdout",
     "output_type": "stream",
     "text": [
      "LinearRegression is finished\n",
      "DecisionTreeRegressor is finished\n",
      "RandomForestRegressor is finished\n",
      "GradientBoostingRegressor is finished\n",
      "MLPRegressor is finished\n",
      "XGBRegressor is finished\n",
      "LGBMRegressor is finished\n"
     ]
    }
   ],
   "source": [
    "result = dict()\n",
    "for model in models:\n",
    "    model_name = str(model).split('(')[0]\n",
    "    scores = cross_val_score(model, X=train_X, y=train_y_ln, verbose=0, cv = 5, scoring=make_scorer(mean_absolute_error))\n",
    "    result[model_name] = scores\n",
    "    print(model_name + ' is finished')"
   ]
  },
  {
   "cell_type": "code",
   "execution_count": 74,
   "metadata": {},
   "outputs": [
    {
     "data": {
      "text/html": [
       "<div>\n",
       "<style scoped>\n",
       "    .dataframe tbody tr th:only-of-type {\n",
       "        vertical-align: middle;\n",
       "    }\n",
       "\n",
       "    .dataframe tbody tr th {\n",
       "        vertical-align: top;\n",
       "    }\n",
       "\n",
       "    .dataframe thead th {\n",
       "        text-align: right;\n",
       "    }\n",
       "</style>\n",
       "<table border=\"1\" class=\"dataframe\">\n",
       "  <thead>\n",
       "    <tr style=\"text-align: right;\">\n",
       "      <th></th>\n",
       "      <th>LinearRegression</th>\n",
       "      <th>DecisionTreeRegressor</th>\n",
       "      <th>RandomForestRegressor</th>\n",
       "      <th>GradientBoostingRegressor</th>\n",
       "      <th>MLPRegressor</th>\n",
       "      <th>XGBRegressor</th>\n",
       "      <th>LGBMRegressor</th>\n",
       "    </tr>\n",
       "  </thead>\n",
       "  <tbody>\n",
       "    <tr>\n",
       "      <th>cv1</th>\n",
       "      <td>0.190792</td>\n",
       "      <td>0.197498</td>\n",
       "      <td>0.132739</td>\n",
       "      <td>0.168900</td>\n",
       "      <td>554.192137</td>\n",
       "      <td>0.142333</td>\n",
       "      <td>0.141546</td>\n",
       "    </tr>\n",
       "    <tr>\n",
       "      <th>cv2</th>\n",
       "      <td>0.193758</td>\n",
       "      <td>0.192830</td>\n",
       "      <td>0.134316</td>\n",
       "      <td>0.171835</td>\n",
       "      <td>592.427127</td>\n",
       "      <td>0.140987</td>\n",
       "      <td>0.145501</td>\n",
       "    </tr>\n",
       "    <tr>\n",
       "      <th>cv3</th>\n",
       "      <td>0.194132</td>\n",
       "      <td>0.189881</td>\n",
       "      <td>0.133515</td>\n",
       "      <td>0.170890</td>\n",
       "      <td>216.712622</td>\n",
       "      <td>0.140607</td>\n",
       "      <td>0.143887</td>\n",
       "    </tr>\n",
       "    <tr>\n",
       "      <th>cv4</th>\n",
       "      <td>0.191825</td>\n",
       "      <td>0.190710</td>\n",
       "      <td>0.132169</td>\n",
       "      <td>0.169083</td>\n",
       "      <td>757.732263</td>\n",
       "      <td>0.137399</td>\n",
       "      <td>0.142497</td>\n",
       "    </tr>\n",
       "    <tr>\n",
       "      <th>cv5</th>\n",
       "      <td>0.195758</td>\n",
       "      <td>0.203901</td>\n",
       "      <td>0.137150</td>\n",
       "      <td>0.174094</td>\n",
       "      <td>403.431424</td>\n",
       "      <td>0.148123</td>\n",
       "      <td>0.144852</td>\n",
       "    </tr>\n",
       "  </tbody>\n",
       "</table>\n",
       "</div>"
      ],
      "text/plain": [
       "     LinearRegression  DecisionTreeRegressor  RandomForestRegressor  \\\n",
       "cv1          0.190792               0.197498               0.132739   \n",
       "cv2          0.193758               0.192830               0.134316   \n",
       "cv3          0.194132               0.189881               0.133515   \n",
       "cv4          0.191825               0.190710               0.132169   \n",
       "cv5          0.195758               0.203901               0.137150   \n",
       "\n",
       "     GradientBoostingRegressor  MLPRegressor  XGBRegressor  LGBMRegressor  \n",
       "cv1                   0.168900    554.192137      0.142333       0.141546  \n",
       "cv2                   0.171835    592.427127      0.140987       0.145501  \n",
       "cv3                   0.170890    216.712622      0.140607       0.143887  \n",
       "cv4                   0.169083    757.732263      0.137399       0.142497  \n",
       "cv5                   0.174094    403.431424      0.148123       0.144852  "
      ]
     },
     "execution_count": 74,
     "metadata": {},
     "output_type": "execute_result"
    }
   ],
   "source": [
    "result = pd.DataFrame(result)\n",
    "result.index = ['cv' + str(x) for x in range(1, 6)]\n",
    "result"
   ]
  },
  {
   "cell_type": "markdown",
   "metadata": {},
   "source": [
    "可以看到随机森林模型在每一个fold中均取得了更好的效果"
   ]
  },
  {
   "cell_type": "code",
   "execution_count": 75,
   "metadata": {},
   "outputs": [],
   "source": [
    "## LGB的参数集合：\n",
    "\n",
    "objective = ['regression', 'regression_l1', 'mape', 'huber', 'fair']\n",
    "\n",
    "num_leaves = [3,5,10,15,20,40, 55]\n",
    "max_depth = [3,5,10,15,20,40, 55]\n",
    "bagging_fraction = []\n",
    "feature_fraction = []\n",
    "drop_rate = []"
   ]
  },
  {
   "cell_type": "markdown",
   "metadata": {},
   "source": [
    "4.4.4 - 1 贪心调参"
   ]
  },
  {
   "cell_type": "code",
   "execution_count": 76,
   "metadata": {},
   "outputs": [],
   "source": [
    "best_obj = dict()\n",
    "for obj in objective:\n",
    "    model = LGBMRegressor(objective=obj)\n",
    "    score = np.mean(cross_val_score(model, X=train_X, y=train_y_ln, verbose=0, cv = 5, scoring=make_scorer(mean_absolute_error)))\n",
    "    best_obj[obj] = score\n",
    "    \n",
    "best_leaves = dict()\n",
    "for leaves in num_leaves:\n",
    "    model = LGBMRegressor(objective=min(best_obj.items(), key=lambda x:x[1])[0], num_leaves=leaves)\n",
    "    score = np.mean(cross_val_score(model, X=train_X, y=train_y_ln, verbose=0, cv = 5, scoring=make_scorer(mean_absolute_error)))\n",
    "    best_leaves[leaves] = score\n",
    "    \n",
    "best_depth = dict()\n",
    "for depth in max_depth:\n",
    "    model = LGBMRegressor(objective=min(best_obj.items(), key=lambda x:x[1])[0],\n",
    "                          num_leaves=min(best_leaves.items(), key=lambda x:x[1])[0],\n",
    "                          max_depth=depth)\n",
    "    score = np.mean(cross_val_score(model, X=train_X, y=train_y_ln, verbose=0, cv = 5, scoring=make_scorer(mean_absolute_error)))\n",
    "    best_depth[depth] = score"
   ]
  },
  {
   "cell_type": "code",
   "execution_count": 77,
   "metadata": {},
   "outputs": [
    {
     "data": {
      "text/plain": [
       "<matplotlib.axes._subplots.AxesSubplot at 0x2a0504f35c0>"
      ]
     },
     "execution_count": 77,
     "metadata": {},
     "output_type": "execute_result"
    },
    {
     "data": {
      "image/png": "[encoded data removed]",
      "text/plain": [
       "<Figure size 432x288 with 1 Axes>"
      ]
     },
     "metadata": {
      "needs_background": "light"
     },
     "output_type": "display_data"
    }
   ],
   "source": [
    "sns.lineplot(x=['0_initial','1_turning_obj','2_turning_leaves','3_turning_depth'], y=[0.143 ,min(best_obj.values()), min(best_leaves.values()), min(best_depth.values())])"
   ]
  },
  {
   "cell_type": "markdown",
   "metadata": {},
   "source": [
    "4.4.4 - 2 Grid Search 调参"
   ]
  },
  {
   "cell_type": "code",
   "execution_count": 78,
   "metadata": {},
   "outputs": [],
   "source": [
    "from sklearn.model_selection import GridSearchCV"
   ]
  },
  {
   "cell_type": "code",
   "execution_count": 79,
   "metadata": {},
   "outputs": [],
   "source": [
    "parameters = {'objective': objective , 'num_leaves': num_leaves, 'max_depth': max_depth}\n",
    "model = LGBMRegressor()\n",
    "clf = GridSearchCV(model, parameters, cv=5)\n",
    "clf = clf.fit(train_X, train_y)"
   ]
  },
  {
   "cell_type": "code",
   "execution_count": 80,
   "metadata": {},
   "outputs": [
    {
     "data": {
      "text/plain": [
       "{'max_depth': 15, 'num_leaves': 55, 'objective': 'regression'}"
      ]
     },
     "execution_count": 80,
     "metadata": {},
     "output_type": "execute_result"
    }
   ],
   "source": [
    "clf.best_params_"
   ]
  },
  {
   "cell_type": "code",
   "execution_count": 81,
   "metadata": {},
   "outputs": [],
   "source": [
    "model = LGBMRegressor(objective='regression',\n",
    "                          num_leaves=55,\n",
    "                          max_depth=15)"
   ]
  },
  {
   "cell_type": "code",
   "execution_count": 82,
   "metadata": {},
   "outputs": [
    {
     "data": {
      "text/plain": [
       "0.1375482073414891"
      ]
     },
     "execution_count": 82,
     "metadata": {},
     "output_type": "execute_result"
    }
   ],
   "source": [
    "np.mean(cross_val_score(model, X=train_X, y=train_y_ln, verbose=0, cv = 5, scoring=make_scorer(mean_absolute_error)))"
   ]
  },
  {
   "cell_type": "markdown",
   "metadata": {},
   "source": [
    "4.4.4 - 3 贝叶斯调参"
   ]
  },
  {
   "cell_type": "code",
   "execution_count": 84,
   "metadata": {},
   "outputs": [],
   "source": [
    "from bayes_opt import BayesianOptimization"
   ]
  },
  {
   "cell_type": "code",
   "execution_count": 85,
   "metadata": {},
   "outputs": [],
   "source": [
    "def rf_cv(num_leaves, max_depth, subsample, min_child_samples):\n",
    "    val = cross_val_score(\n",
    "        LGBMRegressor(objective = 'regression_l1',\n",
    "            num_leaves=int(num_leaves),\n",
    "            max_depth=int(max_depth),\n",
    "            subsample = subsample,\n",
    "            min_child_samples = int(min_child_samples)\n",
    "        ),\n",
    "        X=train_X, y=train_y_ln, verbose=0, cv = 5, scoring=make_scorer(mean_absolute_error)\n",
    "    ).mean()\n",
    "    return 1 - val"
   ]
  },
  {
   "cell_type": "code",
   "execution_count": 86,
   "metadata": {},
   "outputs": [],
   "source": [
    "rf_bo = BayesianOptimization(\n",
    "    rf_cv,\n",
    "    {\n",
    "    'num_leaves': (2, 100),\n",
    "    'max_depth': (2, 100),\n",
    "    'subsample': (0.1, 1),\n",
    "    'min_child_samples' : (2, 100)\n",
    "    }\n",
    ")"
   ]
  },
  {
   "cell_type": "code",
   "execution_count": 87,
   "metadata": {},
   "outputs": [
    {
     "name": "stdout",
     "output_type": "stream",
     "text": [
      "|   iter    |  target   | max_depth | min_ch... | num_le... | subsample |\n",
      "-------------------------------------------------------------------------\n",
      "| \u001b[0m 1       \u001b[0m | \u001b[0m 0.8651  \u001b[0m | \u001b[0m 46.11   \u001b[0m | \u001b[0m 36.87   \u001b[0m | \u001b[0m 59.11   \u001b[0m | \u001b[0m 0.6549  \u001b[0m |\n",
      "| \u001b[0m 2       \u001b[0m | \u001b[0m 0.8591  \u001b[0m | \u001b[0m 22.24   \u001b[0m | \u001b[0m 58.99   \u001b[0m | \u001b[0m 34.52   \u001b[0m | \u001b[0m 0.3715  \u001b[0m |\n",
      "| \u001b[95m 3       \u001b[0m | \u001b[95m 0.8653  \u001b[0m | \u001b[95m 68.54   \u001b[0m | \u001b[95m 66.1    \u001b[0m | \u001b[95m 61.45   \u001b[0m | \u001b[95m 0.1718  \u001b[0m |\n",
      "| \u001b[0m 4       \u001b[0m | \u001b[0m 0.8598  \u001b[0m | \u001b[0m 31.56   \u001b[0m | \u001b[0m 75.6    \u001b[0m | \u001b[0m 37.71   \u001b[0m | \u001b[0m 0.6281  \u001b[0m |\n",
      "| \u001b[0m 5       \u001b[0m | \u001b[0m 0.8596  \u001b[0m | \u001b[0m 19.33   \u001b[0m | \u001b[0m 50.36   \u001b[0m | \u001b[0m 36.75   \u001b[0m | \u001b[0m 0.3316  \u001b[0m |\n",
      "| \u001b[0m 6       \u001b[0m | \u001b[0m 0.8415  \u001b[0m | \u001b[0m 98.39   \u001b[0m | \u001b[0m 5.021   \u001b[0m | \u001b[0m 11.47   \u001b[0m | \u001b[0m 0.9053  \u001b[0m |\n",
      "| \u001b[0m 7       \u001b[0m | \u001b[0m 0.8401  \u001b[0m | \u001b[0m 4.588   \u001b[0m | \u001b[0m 98.11   \u001b[0m | \u001b[0m 99.79   \u001b[0m | \u001b[0m 0.751   \u001b[0m |\n",
      "| \u001b[0m 8       \u001b[0m | \u001b[0m 0.8644  \u001b[0m | \u001b[0m 47.9    \u001b[0m | \u001b[0m 33.67   \u001b[0m | \u001b[0m 56.99   \u001b[0m | \u001b[0m 0.6831  \u001b[0m |\n",
      "| \u001b[95m 9       \u001b[0m | \u001b[95m 0.8692  \u001b[0m | \u001b[95m 96.56   \u001b[0m | \u001b[95m 10.52   \u001b[0m | \u001b[95m 98.58   \u001b[0m | \u001b[95m 0.8958  \u001b[0m |\n",
      "| \u001b[0m 10      \u001b[0m | \u001b[0m 0.8674  \u001b[0m | \u001b[0m 9.363   \u001b[0m | \u001b[0m 3.154   \u001b[0m | \u001b[0m 97.7    \u001b[0m | \u001b[0m 0.1119  \u001b[0m |\n",
      "| \u001b[0m 11      \u001b[0m | \u001b[0m 0.869   \u001b[0m | \u001b[0m 94.49   \u001b[0m | \u001b[0m 14.34   \u001b[0m | \u001b[0m 96.75   \u001b[0m | \u001b[0m 0.5667  \u001b[0m |\n",
      "| \u001b[0m 12      \u001b[0m | \u001b[0m 0.8691  \u001b[0m | \u001b[0m 95.35   \u001b[0m | \u001b[0m 99.55   \u001b[0m | \u001b[0m 97.07   \u001b[0m | \u001b[0m 0.6524  \u001b[0m |\n",
      "| \u001b[0m 13      \u001b[0m | \u001b[0m 0.7719  \u001b[0m | \u001b[0m 99.9    \u001b[0m | \u001b[0m 99.48   \u001b[0m | \u001b[0m 2.724   \u001b[0m | \u001b[0m 0.1502  \u001b[0m |\n",
      "| \u001b[0m 14      \u001b[0m | \u001b[0m 0.802   \u001b[0m | \u001b[0m 5.347   \u001b[0m | \u001b[0m 3.901   \u001b[0m | \u001b[0m 3.625   \u001b[0m | \u001b[0m 0.9631  \u001b[0m |\n",
      "| \u001b[0m 15      \u001b[0m | \u001b[0m 0.869   \u001b[0m | \u001b[0m 91.91   \u001b[0m | \u001b[0m 98.58   \u001b[0m | \u001b[0m 95.37   \u001b[0m | \u001b[0m 0.679   \u001b[0m |\n",
      "| \u001b[0m 16      \u001b[0m | \u001b[0m 0.8658  \u001b[0m | \u001b[0m 99.49   \u001b[0m | \u001b[0m 2.427   \u001b[0m | \u001b[0m 66.99   \u001b[0m | \u001b[0m 0.4654  \u001b[0m |\n",
      "| \u001b[95m 17      \u001b[0m | \u001b[95m 0.8693  \u001b[0m | \u001b[95m 99.62   \u001b[0m | \u001b[95m 58.11   \u001b[0m | \u001b[95m 99.86   \u001b[0m | \u001b[95m 0.8548  \u001b[0m |\n",
      "| \u001b[0m 18      \u001b[0m | \u001b[0m 0.8692  \u001b[0m | \u001b[0m 54.88   \u001b[0m | \u001b[0m 63.89   \u001b[0m | \u001b[0m 99.78   \u001b[0m | \u001b[0m 0.2362  \u001b[0m |\n",
      "| \u001b[0m 19      \u001b[0m | \u001b[0m 0.8688  \u001b[0m | \u001b[0m 47.12   \u001b[0m | \u001b[0m 2.447   \u001b[0m | \u001b[0m 99.5    \u001b[0m | \u001b[0m 0.2933  \u001b[0m |\n",
      "| \u001b[0m 20      \u001b[0m | \u001b[0m 0.8253  \u001b[0m | \u001b[0m 3.399   \u001b[0m | \u001b[0m 54.53   \u001b[0m | \u001b[0m 70.84   \u001b[0m | \u001b[0m 0.4311  \u001b[0m |\n",
      "| \u001b[0m 21      \u001b[0m | \u001b[0m 0.8119  \u001b[0m | \u001b[0m 3.928   \u001b[0m | \u001b[0m 98.39   \u001b[0m | \u001b[0m 4.158   \u001b[0m | \u001b[0m 0.7424  \u001b[0m |\n",
      "| \u001b[0m 22      \u001b[0m | \u001b[0m 0.869   \u001b[0m | \u001b[0m 54.46   \u001b[0m | \u001b[0m 99.06   \u001b[0m | \u001b[0m 98.95   \u001b[0m | \u001b[0m 0.6998  \u001b[0m |\n",
      "| \u001b[0m 23      \u001b[0m | \u001b[0m 0.8273  \u001b[0m | \u001b[0m 48.17   \u001b[0m | \u001b[0m 49.73   \u001b[0m | \u001b[0m 6.246   \u001b[0m | \u001b[0m 0.2226  \u001b[0m |\n",
      "| \u001b[0m 24      \u001b[0m | \u001b[0m 0.8625  \u001b[0m | \u001b[0m 26.52   \u001b[0m | \u001b[0m 2.037   \u001b[0m | \u001b[0m 46.04   \u001b[0m | \u001b[0m 0.3814  \u001b[0m |\n",
      "| \u001b[0m 25      \u001b[0m | \u001b[0m 0.8692  \u001b[0m | \u001b[0m 76.57   \u001b[0m | \u001b[0m 82.43   \u001b[0m | \u001b[0m 98.26   \u001b[0m | \u001b[0m 0.2176  \u001b[0m |\n",
      "| \u001b[0m 26      \u001b[0m | \u001b[0m 0.8658  \u001b[0m | \u001b[0m 45.47   \u001b[0m | \u001b[0m 99.4    \u001b[0m | \u001b[0m 66.86   \u001b[0m | \u001b[0m 0.2649  \u001b[0m |\n",
      "| \u001b[95m 27      \u001b[0m | \u001b[95m 0.8694  \u001b[0m | \u001b[95m 76.25   \u001b[0m | \u001b[95m 38.88   \u001b[0m | \u001b[95m 98.87   \u001b[0m | \u001b[95m 0.8649  \u001b[0m |\n",
      "| \u001b[0m 28      \u001b[0m | \u001b[0m 0.866   \u001b[0m | \u001b[0m 99.64   \u001b[0m | \u001b[0m 38.15   \u001b[0m | \u001b[0m 65.09   \u001b[0m | \u001b[0m 0.3415  \u001b[0m |\n",
      "| \u001b[0m 29      \u001b[0m | \u001b[0m 0.8667  \u001b[0m | \u001b[0m 99.39   \u001b[0m | \u001b[0m 98.76   \u001b[0m | \u001b[0m 72.63   \u001b[0m | \u001b[0m 0.1119  \u001b[0m |\n",
      "| \u001b[0m 30      \u001b[0m | \u001b[0m 0.8619  \u001b[0m | \u001b[0m 63.54   \u001b[0m | \u001b[0m 2.166   \u001b[0m | \u001b[0m 44.98   \u001b[0m | \u001b[0m 0.2602  \u001b[0m |\n",
      "=========================================================================\n"
     ]
    }
   ],
   "source": [
    "rf_bo.maximize()"
   ]
  },
  {
   "cell_type": "code",
   "execution_count": 88,
   "metadata": {},
   "outputs": [
    {
     "data": {
      "text/plain": [
       "0.130587111533911"
      ]
     },
     "execution_count": 88,
     "metadata": {},
     "output_type": "execute_result"
    }
   ],
   "source": [
    "1 - rf_bo.max['target']"
   ]
  },
  {
   "cell_type": "code",
   "execution_count": 89,
   "metadata": {},
   "outputs": [
    {
     "data": {
      "text/plain": [
       "<matplotlib.axes._subplots.AxesSubplot at 0x2a00eb7acf8>"
      ]
     },
     "execution_count": 89,
     "metadata": {},
     "output_type": "execute_result"
    },
    {
     "data": {
      "image/png": "[encoded data removed]",
      "text/plain": [
       "<Figure size 936x360 with 1 Axes>"
      ]
     },
     "metadata": {
      "needs_background": "light"
     },
     "output_type": "display_data"
    }
   ],
   "source": [
    "plt.figure(figsize=(13,5))\n",
    "sns.lineplot(x=['0_origin','1_log_transfer','2_L1_&_L2','3_change_model','4_parameter_turning'], y=[1.36 ,0.19, 0.19, 0.14, 0.13])"
   ]
  },
  {
   "cell_type": "code",
   "execution_count": null,
   "metadata": {},
   "outputs": [],
   "source": []
  }
 ],
 "metadata": {
  "kernelspec": {
   "display_name": "Python 3",
   "language": "python",
   "name": "python3"
  }
 },
 "nbformat": 4,
 "nbformat_minor": 2
}
